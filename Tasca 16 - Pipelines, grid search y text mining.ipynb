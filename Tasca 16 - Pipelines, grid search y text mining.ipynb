{
 "cells": [
  {
   "cell_type": "markdown",
   "metadata": {},
   "source": [
    "![logo](banner.jpg)"
   ]
  },
  {
   "cell_type": "markdown",
   "metadata": {},
   "source": [
    "<h1><center><span style=\"color:blue\">TASCA 16 - IT Academy</span></center></h1>\n",
    "<h2><center><span style=\"color:blue\">Curs Data Science</span></center></h2>"
   ]
  },
  {
   "cell_type": "code",
   "execution_count": 161,
   "metadata": {},
   "outputs": [],
   "source": [
    "import pandas as pd\n",
    "import seaborn as sns\n",
    "import numpy as np\n",
    "import matplotlib.pyplot as plt\n",
    "from sklearn.preprocessing import StandardScaler, OneHotEncoder, RobustScaler\n",
    "from sklearn.decomposition import PCA\n",
    "from sklearn.preprocessing import normalize\n",
    "from sklearn.cluster import DBSCAN\n",
    "from sklearn.model_selection import GridSearchCV, RandomizedSearchCV\n",
    "from sklearn.ensemble import  RandomForestRegressor\n",
    "from sklearn.model_selection import train_test_split\n",
    "from sklearn.metrics import mean_squared_error\n",
    "from sklearn.compose import ColumnTransformer \n",
    "from sklearn.impute import SimpleImputer\n",
    "from sklearn.pipeline import Pipeline\n",
    "import category_encoders as ce\n",
    "from sklearn.naive_bayes import MultinomialNB\n",
    "from sklearn import metrics\n",
    "from \n",
    "\n",
    "import nltk\n",
    "from nltk.tokenize import sent_tokenize, word_tokenize, RegexpTokenizer\n",
    "from nltk.probability import FreqDist\n",
    "from nltk.corpus import stopwords\n",
    "from nltk.stem.wordnet import WordNetLemmatizer\n",
    "from nltk.stem.porter import PorterStemmer\n",
    "from sklearn.feature_extraction.text import CountVectorizer, TfidfVectorizer\n",
    "from nltk.sentiment.vader import SentimentIntensityAnalyzer\n",
    "\n",
    "import time\n",
    "import calendar\n",
    "import warnings\n",
    "warnings.filterwarnings('ignore')"
   ]
  },
  {
   "cell_type": "code",
   "execution_count": 162,
   "metadata": {},
   "outputs": [
    {
     "name": "stderr",
     "output_type": "stream",
     "text": [
      "[nltk_data] Downloading package punkt to\n",
      "[nltk_data]     C:\\Users\\Marta\\AppData\\Roaming\\nltk_data...\n",
      "[nltk_data]   Package punkt is already up-to-date!\n",
      "[nltk_data] Downloading package stopwords to\n",
      "[nltk_data]     C:\\Users\\Marta\\AppData\\Roaming\\nltk_data...\n",
      "[nltk_data]   Package stopwords is already up-to-date!\n",
      "[nltk_data] Downloading package vader_lexicon to\n",
      "[nltk_data]     C:\\Users\\Marta\\AppData\\Roaming\\nltk_data...\n",
      "[nltk_data]   Package vader_lexicon is already up-to-date!\n"
     ]
    },
    {
     "data": {
      "text/plain": [
       "True"
      ]
     },
     "execution_count": 162,
     "metadata": {},
     "output_type": "execute_result"
    }
   ],
   "source": [
    "import nltk\n",
    "nltk.download('punkt')\n",
    "nltk.download('stopwords')\n",
    "nltk.download(\"vader_lexicon\")"
   ]
  },
  {
   "cell_type": "markdown",
   "metadata": {},
   "source": [
    "Como de formación y profesión me he dedicado siempre al marketing y a las ventas, me ha parecido interesante realizar esta tarea\n",
    "sobre la previsión de ventas de una cadena de farmacias europea. Para ello partimos de la base de 2 datasets: un dataset con información de las tiendas y otro con información de las ventas. "
   ]
  },
  {
   "cell_type": "markdown",
   "metadata": {},
   "source": [
    "__INFORMACIÓN DE LOS ATRIBUTOS:__\n",
    "\n",
    "-__Store__ - Una identificación única para cada tienda.\n",
    "\n",
    "-__Sales__ - el volumen de negocios de un día determinado (esto es lo que está prediciendo).\n",
    "\n",
    "-__Customers__ - el número de clientes en un día determinado.\n",
    "\n",
    "-__Open__ - un indicador de si la tienda estaba abierta: 0 = cerrada, 1 = abierta.\n",
    "\n",
    "-__StateHoliday__ - indica un festivo estatal. Normalmente todas las tiendas están cerradas: a = festivo, b = festivo de Pascua,\n",
    "                    c = Navidad, 0 = Ninguno.\n",
    "\n",
    "-__SchoolHoliday__ - indica si la tienda se vio afectada por el cierre de las escuelas públicas.\n",
    "\n",
    "-__StoreType__ -diferencia entre 4 modelos de tienda diferentes: a, b, c, d.\n",
    "\n",
    "-__Assortment__ - describe un nivel de surtido: a = básico, b = extra, c = extendido.\n",
    "\n",
    "-__CompetitionDistance__ - distancia en metros hasta la tienda competidora más cercana.\n",
    "\n",
    "-__CompetitionOpenSince [Month / Year]__ - proporciona el año/mes aprox. del momento en que se abrió el competidor más cercano.\n",
    "\n",
    "-__Promo__ - indica si una tienda está ejecutando una promoción ese día.\n",
    "\n",
    "-__Promo2__ - Promoción continua y consecutiva para algunas tiendas: 0 = la tienda no participa, 1 = la tienda participa.\n",
    "\n",
    "-__Promo2Since [Year / Week]__ - describe el año y la semana calendario en que la tienda comenzó a participar en Promo2.\n",
    "\n",
    "-__PromoInterval__ - describe los intervalos consecutivos en que se inicia Promo2, nombrando los meses en que la promo se inicia\n",
    "                     de nuevo. "
   ]
  },
  {
   "cell_type": "code",
   "execution_count": 163,
   "metadata": {},
   "outputs": [],
   "source": [
    "# cargamos el dataset correspondiente a las Ventas\n",
    "\n",
    "venta=pd.read_csv(\"Ventas.csv\", sep=\",\", encoding='utf8') "
   ]
  },
  {
   "cell_type": "code",
   "execution_count": 164,
   "metadata": {},
   "outputs": [
    {
     "data": {
      "text/html": [
       "<div>\n",
       "<style scoped>\n",
       "    .dataframe tbody tr th:only-of-type {\n",
       "        vertical-align: middle;\n",
       "    }\n",
       "\n",
       "    .dataframe tbody tr th {\n",
       "        vertical-align: top;\n",
       "    }\n",
       "\n",
       "    .dataframe thead th {\n",
       "        text-align: right;\n",
       "    }\n",
       "</style>\n",
       "<table border=\"1\" class=\"dataframe\">\n",
       "  <thead>\n",
       "    <tr style=\"text-align: right;\">\n",
       "      <th></th>\n",
       "      <th>Store</th>\n",
       "      <th>DayOfWeek</th>\n",
       "      <th>Date</th>\n",
       "      <th>Sales</th>\n",
       "      <th>Customers</th>\n",
       "      <th>Open</th>\n",
       "      <th>Promo</th>\n",
       "      <th>StateHoliday</th>\n",
       "      <th>SchoolHoliday</th>\n",
       "    </tr>\n",
       "  </thead>\n",
       "  <tbody>\n",
       "    <tr>\n",
       "      <th>0</th>\n",
       "      <td>1</td>\n",
       "      <td>5</td>\n",
       "      <td>2015-07-31</td>\n",
       "      <td>5263</td>\n",
       "      <td>555</td>\n",
       "      <td>1</td>\n",
       "      <td>1</td>\n",
       "      <td>0</td>\n",
       "      <td>1</td>\n",
       "    </tr>\n",
       "    <tr>\n",
       "      <th>1</th>\n",
       "      <td>2</td>\n",
       "      <td>5</td>\n",
       "      <td>2015-07-31</td>\n",
       "      <td>6064</td>\n",
       "      <td>625</td>\n",
       "      <td>1</td>\n",
       "      <td>1</td>\n",
       "      <td>0</td>\n",
       "      <td>1</td>\n",
       "    </tr>\n",
       "    <tr>\n",
       "      <th>2</th>\n",
       "      <td>3</td>\n",
       "      <td>5</td>\n",
       "      <td>2015-07-31</td>\n",
       "      <td>8314</td>\n",
       "      <td>821</td>\n",
       "      <td>1</td>\n",
       "      <td>1</td>\n",
       "      <td>0</td>\n",
       "      <td>1</td>\n",
       "    </tr>\n",
       "    <tr>\n",
       "      <th>3</th>\n",
       "      <td>4</td>\n",
       "      <td>5</td>\n",
       "      <td>2015-07-31</td>\n",
       "      <td>13995</td>\n",
       "      <td>1498</td>\n",
       "      <td>1</td>\n",
       "      <td>1</td>\n",
       "      <td>0</td>\n",
       "      <td>1</td>\n",
       "    </tr>\n",
       "    <tr>\n",
       "      <th>4</th>\n",
       "      <td>5</td>\n",
       "      <td>5</td>\n",
       "      <td>2015-07-31</td>\n",
       "      <td>4822</td>\n",
       "      <td>559</td>\n",
       "      <td>1</td>\n",
       "      <td>1</td>\n",
       "      <td>0</td>\n",
       "      <td>1</td>\n",
       "    </tr>\n",
       "  </tbody>\n",
       "</table>\n",
       "</div>"
      ],
      "text/plain": [
       "   Store  DayOfWeek        Date  Sales  Customers  Open  Promo StateHoliday  \\\n",
       "0      1          5  2015-07-31   5263        555     1      1            0   \n",
       "1      2          5  2015-07-31   6064        625     1      1            0   \n",
       "2      3          5  2015-07-31   8314        821     1      1            0   \n",
       "3      4          5  2015-07-31  13995       1498     1      1            0   \n",
       "4      5          5  2015-07-31   4822        559     1      1            0   \n",
       "\n",
       "   SchoolHoliday  \n",
       "0              1  \n",
       "1              1  \n",
       "2              1  \n",
       "3              1  \n",
       "4              1  "
      ]
     },
     "execution_count": 164,
     "metadata": {},
     "output_type": "execute_result"
    }
   ],
   "source": [
    "venta.head()"
   ]
  },
  {
   "cell_type": "code",
   "execution_count": 165,
   "metadata": {},
   "outputs": [],
   "source": [
    "# cargamos el dataset correspondiente a la información de las tiendas\n",
    "\n",
    "tienda=pd.read_csv(\"Tiendas.csv\", sep=\",\", encoding='utf8') "
   ]
  },
  {
   "cell_type": "code",
   "execution_count": 166,
   "metadata": {},
   "outputs": [
    {
     "data": {
      "text/html": [
       "<div>\n",
       "<style scoped>\n",
       "    .dataframe tbody tr th:only-of-type {\n",
       "        vertical-align: middle;\n",
       "    }\n",
       "\n",
       "    .dataframe tbody tr th {\n",
       "        vertical-align: top;\n",
       "    }\n",
       "\n",
       "    .dataframe thead th {\n",
       "        text-align: right;\n",
       "    }\n",
       "</style>\n",
       "<table border=\"1\" class=\"dataframe\">\n",
       "  <thead>\n",
       "    <tr style=\"text-align: right;\">\n",
       "      <th></th>\n",
       "      <th>Store</th>\n",
       "      <th>StoreType</th>\n",
       "      <th>Assortment</th>\n",
       "      <th>CompetitionDistance</th>\n",
       "      <th>CompetitionOpenSinceMonth</th>\n",
       "      <th>CompetitionOpenSinceYear</th>\n",
       "      <th>Promo2</th>\n",
       "      <th>Promo2SinceWeek</th>\n",
       "      <th>Promo2SinceYear</th>\n",
       "      <th>PromoInterval</th>\n",
       "    </tr>\n",
       "  </thead>\n",
       "  <tbody>\n",
       "    <tr>\n",
       "      <th>0</th>\n",
       "      <td>1</td>\n",
       "      <td>c</td>\n",
       "      <td>a</td>\n",
       "      <td>1270.0</td>\n",
       "      <td>9.0</td>\n",
       "      <td>2008.0</td>\n",
       "      <td>0</td>\n",
       "      <td>NaN</td>\n",
       "      <td>NaN</td>\n",
       "      <td>NaN</td>\n",
       "    </tr>\n",
       "    <tr>\n",
       "      <th>1</th>\n",
       "      <td>2</td>\n",
       "      <td>a</td>\n",
       "      <td>a</td>\n",
       "      <td>570.0</td>\n",
       "      <td>11.0</td>\n",
       "      <td>2007.0</td>\n",
       "      <td>1</td>\n",
       "      <td>13.0</td>\n",
       "      <td>2010.0</td>\n",
       "      <td>Jan,Apr,Jul,Oct</td>\n",
       "    </tr>\n",
       "    <tr>\n",
       "      <th>2</th>\n",
       "      <td>3</td>\n",
       "      <td>a</td>\n",
       "      <td>a</td>\n",
       "      <td>14130.0</td>\n",
       "      <td>12.0</td>\n",
       "      <td>2006.0</td>\n",
       "      <td>1</td>\n",
       "      <td>14.0</td>\n",
       "      <td>2011.0</td>\n",
       "      <td>Jan,Apr,Jul,Oct</td>\n",
       "    </tr>\n",
       "    <tr>\n",
       "      <th>3</th>\n",
       "      <td>4</td>\n",
       "      <td>c</td>\n",
       "      <td>c</td>\n",
       "      <td>620.0</td>\n",
       "      <td>9.0</td>\n",
       "      <td>2009.0</td>\n",
       "      <td>0</td>\n",
       "      <td>NaN</td>\n",
       "      <td>NaN</td>\n",
       "      <td>NaN</td>\n",
       "    </tr>\n",
       "    <tr>\n",
       "      <th>4</th>\n",
       "      <td>5</td>\n",
       "      <td>a</td>\n",
       "      <td>a</td>\n",
       "      <td>29910.0</td>\n",
       "      <td>4.0</td>\n",
       "      <td>2015.0</td>\n",
       "      <td>0</td>\n",
       "      <td>NaN</td>\n",
       "      <td>NaN</td>\n",
       "      <td>NaN</td>\n",
       "    </tr>\n",
       "  </tbody>\n",
       "</table>\n",
       "</div>"
      ],
      "text/plain": [
       "   Store StoreType Assortment  CompetitionDistance  CompetitionOpenSinceMonth  \\\n",
       "0      1         c          a               1270.0                        9.0   \n",
       "1      2         a          a                570.0                       11.0   \n",
       "2      3         a          a              14130.0                       12.0   \n",
       "3      4         c          c                620.0                        9.0   \n",
       "4      5         a          a              29910.0                        4.0   \n",
       "\n",
       "   CompetitionOpenSinceYear  Promo2  Promo2SinceWeek  Promo2SinceYear  \\\n",
       "0                    2008.0       0              NaN              NaN   \n",
       "1                    2007.0       1             13.0           2010.0   \n",
       "2                    2006.0       1             14.0           2011.0   \n",
       "3                    2009.0       0              NaN              NaN   \n",
       "4                    2015.0       0              NaN              NaN   \n",
       "\n",
       "     PromoInterval  \n",
       "0              NaN  \n",
       "1  Jan,Apr,Jul,Oct  \n",
       "2  Jan,Apr,Jul,Oct  \n",
       "3              NaN  \n",
       "4              NaN  "
      ]
     },
     "execution_count": 166,
     "metadata": {},
     "output_type": "execute_result"
    }
   ],
   "source": [
    "tienda.head()"
   ]
  },
  {
   "cell_type": "code",
   "execution_count": 167,
   "metadata": {},
   "outputs": [
    {
     "data": {
      "text/plain": [
       "Index(['Store', 'StoreType', 'Assortment', 'CompetitionDistance',\n",
       "       'CompetitionOpenSinceMonth', 'CompetitionOpenSinceYear', 'Promo2',\n",
       "       'Promo2SinceWeek', 'Promo2SinceYear', 'PromoInterval'],\n",
       "      dtype='object')"
      ]
     },
     "execution_count": 167,
     "metadata": {},
     "output_type": "execute_result"
    }
   ],
   "source": [
    "tienda.columns"
   ]
  },
  {
   "cell_type": "code",
   "execution_count": 168,
   "metadata": {},
   "outputs": [
    {
     "data": {
      "text/plain": [
       "Index(['Store', 'DayOfWeek', 'Date', 'Sales', 'Customers', 'Open', 'Promo',\n",
       "       'StateHoliday', 'SchoolHoliday'],\n",
       "      dtype='object')"
      ]
     },
     "execution_count": 168,
     "metadata": {},
     "output_type": "execute_result"
    }
   ],
   "source": [
    "venta.columns"
   ]
  },
  {
   "cell_type": "code",
   "execution_count": 169,
   "metadata": {},
   "outputs": [],
   "source": [
    "# A continuación comprobamos si los datasets tienen valores nulos. "
   ]
  },
  {
   "cell_type": "code",
   "execution_count": 170,
   "metadata": {},
   "outputs": [
    {
     "data": {
      "text/plain": [
       "Store            0\n",
       "DayOfWeek        0\n",
       "Date             0\n",
       "Sales            0\n",
       "Customers        0\n",
       "Open             0\n",
       "Promo            0\n",
       "StateHoliday     0\n",
       "SchoolHoliday    0\n",
       "dtype: int64"
      ]
     },
     "execution_count": 170,
     "metadata": {},
     "output_type": "execute_result"
    }
   ],
   "source": [
    "venta.isnull().sum()"
   ]
  },
  {
   "cell_type": "code",
   "execution_count": 171,
   "metadata": {},
   "outputs": [
    {
     "data": {
      "text/plain": [
       "Store                          0\n",
       "StoreType                      0\n",
       "Assortment                     0\n",
       "CompetitionDistance            3\n",
       "CompetitionOpenSinceMonth    354\n",
       "CompetitionOpenSinceYear     354\n",
       "Promo2                         0\n",
       "Promo2SinceWeek              544\n",
       "Promo2SinceYear              544\n",
       "PromoInterval                544\n",
       "dtype: int64"
      ]
     },
     "execution_count": 171,
     "metadata": {},
     "output_type": "execute_result"
    }
   ],
   "source": [
    "tienda.isnull().sum()"
   ]
  },
  {
   "cell_type": "code",
   "execution_count": 172,
   "metadata": {},
   "outputs": [],
   "source": [
    "# Como me interesa aligerar el dataset pq el PC no me da mucho de sí, decido eliminar los valores NaN en lugar de sustituirlos\n",
    "# por su media.\n",
    "\n",
    "tienda.dropna(inplace=True) "
   ]
  },
  {
   "cell_type": "code",
   "execution_count": 173,
   "metadata": {},
   "outputs": [
    {
     "data": {
      "text/plain": [
       "a    200\n",
       "d    118\n",
       "c     47\n",
       "Name: StoreType, dtype: int64"
      ]
     },
     "execution_count": 173,
     "metadata": {},
     "output_type": "execute_result"
    }
   ],
   "source": [
    "# Reemplazamos por valores numéricos las columnas que tienen etiquetas (ver Atributos más arriba)\n",
    "\n",
    "tienda['StoreType'].value_counts()"
   ]
  },
  {
   "cell_type": "code",
   "execution_count": 174,
   "metadata": {},
   "outputs": [
    {
     "data": {
      "text/plain": [
       "a    216\n",
       "c    149\n",
       "Name: Assortment, dtype: int64"
      ]
     },
     "execution_count": 174,
     "metadata": {},
     "output_type": "execute_result"
    }
   ],
   "source": [
    "tienda['Assortment'].value_counts()"
   ]
  },
  {
   "cell_type": "code",
   "execution_count": 175,
   "metadata": {},
   "outputs": [],
   "source": [
    "tienda['StoreType']= tienda['StoreType'].map({'a':1, 'b' : 2, 'c': 3, 'd' : 4})\n",
    "tienda['Assortment'] = tienda['Assortment'].map({'a':1, 'b' : 2, 'c': 3})"
   ]
  },
  {
   "cell_type": "code",
   "execution_count": 176,
   "metadata": {},
   "outputs": [
    {
     "data": {
      "text/html": [
       "<div>\n",
       "<style scoped>\n",
       "    .dataframe tbody tr th:only-of-type {\n",
       "        vertical-align: middle;\n",
       "    }\n",
       "\n",
       "    .dataframe tbody tr th {\n",
       "        vertical-align: top;\n",
       "    }\n",
       "\n",
       "    .dataframe thead th {\n",
       "        text-align: right;\n",
       "    }\n",
       "</style>\n",
       "<table border=\"1\" class=\"dataframe\">\n",
       "  <thead>\n",
       "    <tr style=\"text-align: right;\">\n",
       "      <th></th>\n",
       "      <th>Store</th>\n",
       "      <th>StoreType</th>\n",
       "      <th>Assortment</th>\n",
       "      <th>CompetitionDistance</th>\n",
       "      <th>CompetitionOpenSinceMonth</th>\n",
       "      <th>CompetitionOpenSinceYear</th>\n",
       "      <th>Promo2</th>\n",
       "      <th>Promo2SinceWeek</th>\n",
       "      <th>Promo2SinceYear</th>\n",
       "      <th>PromoInterval</th>\n",
       "    </tr>\n",
       "  </thead>\n",
       "  <tbody>\n",
       "    <tr>\n",
       "      <th>1</th>\n",
       "      <td>2</td>\n",
       "      <td>1</td>\n",
       "      <td>1</td>\n",
       "      <td>570.0</td>\n",
       "      <td>11.0</td>\n",
       "      <td>2007.0</td>\n",
       "      <td>1</td>\n",
       "      <td>13.0</td>\n",
       "      <td>2010.0</td>\n",
       "      <td>Jan,Apr,Jul,Oct</td>\n",
       "    </tr>\n",
       "    <tr>\n",
       "      <th>2</th>\n",
       "      <td>3</td>\n",
       "      <td>1</td>\n",
       "      <td>1</td>\n",
       "      <td>14130.0</td>\n",
       "      <td>12.0</td>\n",
       "      <td>2006.0</td>\n",
       "      <td>1</td>\n",
       "      <td>14.0</td>\n",
       "      <td>2011.0</td>\n",
       "      <td>Jan,Apr,Jul,Oct</td>\n",
       "    </tr>\n",
       "    <tr>\n",
       "      <th>10</th>\n",
       "      <td>11</td>\n",
       "      <td>1</td>\n",
       "      <td>3</td>\n",
       "      <td>960.0</td>\n",
       "      <td>11.0</td>\n",
       "      <td>2011.0</td>\n",
       "      <td>1</td>\n",
       "      <td>1.0</td>\n",
       "      <td>2012.0</td>\n",
       "      <td>Jan,Apr,Jul,Oct</td>\n",
       "    </tr>\n",
       "    <tr>\n",
       "      <th>13</th>\n",
       "      <td>14</td>\n",
       "      <td>1</td>\n",
       "      <td>1</td>\n",
       "      <td>1300.0</td>\n",
       "      <td>3.0</td>\n",
       "      <td>2014.0</td>\n",
       "      <td>1</td>\n",
       "      <td>40.0</td>\n",
       "      <td>2011.0</td>\n",
       "      <td>Jan,Apr,Jul,Oct</td>\n",
       "    </tr>\n",
       "    <tr>\n",
       "      <th>14</th>\n",
       "      <td>15</td>\n",
       "      <td>4</td>\n",
       "      <td>3</td>\n",
       "      <td>4110.0</td>\n",
       "      <td>3.0</td>\n",
       "      <td>2010.0</td>\n",
       "      <td>1</td>\n",
       "      <td>14.0</td>\n",
       "      <td>2011.0</td>\n",
       "      <td>Jan,Apr,Jul,Oct</td>\n",
       "    </tr>\n",
       "  </tbody>\n",
       "</table>\n",
       "</div>"
      ],
      "text/plain": [
       "    Store  StoreType  Assortment  CompetitionDistance  \\\n",
       "1       2          1           1                570.0   \n",
       "2       3          1           1              14130.0   \n",
       "10     11          1           3                960.0   \n",
       "13     14          1           1               1300.0   \n",
       "14     15          4           3               4110.0   \n",
       "\n",
       "    CompetitionOpenSinceMonth  CompetitionOpenSinceYear  Promo2  \\\n",
       "1                        11.0                    2007.0       1   \n",
       "2                        12.0                    2006.0       1   \n",
       "10                       11.0                    2011.0       1   \n",
       "13                        3.0                    2014.0       1   \n",
       "14                        3.0                    2010.0       1   \n",
       "\n",
       "    Promo2SinceWeek  Promo2SinceYear    PromoInterval  \n",
       "1              13.0           2010.0  Jan,Apr,Jul,Oct  \n",
       "2              14.0           2011.0  Jan,Apr,Jul,Oct  \n",
       "10              1.0           2012.0  Jan,Apr,Jul,Oct  \n",
       "13             40.0           2011.0  Jan,Apr,Jul,Oct  \n",
       "14             14.0           2011.0  Jan,Apr,Jul,Oct  "
      ]
     },
     "execution_count": 176,
     "metadata": {},
     "output_type": "execute_result"
    }
   ],
   "source": [
    "tienda.head()"
   ]
  },
  {
   "cell_type": "code",
   "execution_count": 177,
   "metadata": {},
   "outputs": [
    {
     "data": {
      "text/html": [
       "<div>\n",
       "<style scoped>\n",
       "    .dataframe tbody tr th:only-of-type {\n",
       "        vertical-align: middle;\n",
       "    }\n",
       "\n",
       "    .dataframe tbody tr th {\n",
       "        vertical-align: top;\n",
       "    }\n",
       "\n",
       "    .dataframe thead th {\n",
       "        text-align: right;\n",
       "    }\n",
       "</style>\n",
       "<table border=\"1\" class=\"dataframe\">\n",
       "  <thead>\n",
       "    <tr style=\"text-align: right;\">\n",
       "      <th></th>\n",
       "      <th>Store</th>\n",
       "      <th>DayOfWeek</th>\n",
       "      <th>Date</th>\n",
       "      <th>Sales</th>\n",
       "      <th>Customers</th>\n",
       "      <th>Open</th>\n",
       "      <th>Promo</th>\n",
       "      <th>StateHoliday</th>\n",
       "      <th>SchoolHoliday</th>\n",
       "      <th>StoreType</th>\n",
       "      <th>Assortment</th>\n",
       "      <th>CompetitionDistance</th>\n",
       "      <th>CompetitionOpenSinceMonth</th>\n",
       "      <th>CompetitionOpenSinceYear</th>\n",
       "      <th>Promo2</th>\n",
       "      <th>Promo2SinceWeek</th>\n",
       "      <th>Promo2SinceYear</th>\n",
       "      <th>PromoInterval</th>\n",
       "    </tr>\n",
       "  </thead>\n",
       "  <tbody>\n",
       "    <tr>\n",
       "      <th>0</th>\n",
       "      <td>1</td>\n",
       "      <td>5</td>\n",
       "      <td>2015-07-31</td>\n",
       "      <td>5263</td>\n",
       "      <td>555</td>\n",
       "      <td>1</td>\n",
       "      <td>1</td>\n",
       "      <td>0</td>\n",
       "      <td>1</td>\n",
       "      <td>NaN</td>\n",
       "      <td>NaN</td>\n",
       "      <td>NaN</td>\n",
       "      <td>NaN</td>\n",
       "      <td>NaN</td>\n",
       "      <td>NaN</td>\n",
       "      <td>NaN</td>\n",
       "      <td>NaN</td>\n",
       "      <td>NaN</td>\n",
       "    </tr>\n",
       "    <tr>\n",
       "      <th>1</th>\n",
       "      <td>2</td>\n",
       "      <td>5</td>\n",
       "      <td>2015-07-31</td>\n",
       "      <td>6064</td>\n",
       "      <td>625</td>\n",
       "      <td>1</td>\n",
       "      <td>1</td>\n",
       "      <td>0</td>\n",
       "      <td>1</td>\n",
       "      <td>1.0</td>\n",
       "      <td>1.0</td>\n",
       "      <td>570.0</td>\n",
       "      <td>11.0</td>\n",
       "      <td>2007.0</td>\n",
       "      <td>1.0</td>\n",
       "      <td>13.0</td>\n",
       "      <td>2010.0</td>\n",
       "      <td>Jan,Apr,Jul,Oct</td>\n",
       "    </tr>\n",
       "    <tr>\n",
       "      <th>2</th>\n",
       "      <td>3</td>\n",
       "      <td>5</td>\n",
       "      <td>2015-07-31</td>\n",
       "      <td>8314</td>\n",
       "      <td>821</td>\n",
       "      <td>1</td>\n",
       "      <td>1</td>\n",
       "      <td>0</td>\n",
       "      <td>1</td>\n",
       "      <td>1.0</td>\n",
       "      <td>1.0</td>\n",
       "      <td>14130.0</td>\n",
       "      <td>12.0</td>\n",
       "      <td>2006.0</td>\n",
       "      <td>1.0</td>\n",
       "      <td>14.0</td>\n",
       "      <td>2011.0</td>\n",
       "      <td>Jan,Apr,Jul,Oct</td>\n",
       "    </tr>\n",
       "    <tr>\n",
       "      <th>3</th>\n",
       "      <td>4</td>\n",
       "      <td>5</td>\n",
       "      <td>2015-07-31</td>\n",
       "      <td>13995</td>\n",
       "      <td>1498</td>\n",
       "      <td>1</td>\n",
       "      <td>1</td>\n",
       "      <td>0</td>\n",
       "      <td>1</td>\n",
       "      <td>NaN</td>\n",
       "      <td>NaN</td>\n",
       "      <td>NaN</td>\n",
       "      <td>NaN</td>\n",
       "      <td>NaN</td>\n",
       "      <td>NaN</td>\n",
       "      <td>NaN</td>\n",
       "      <td>NaN</td>\n",
       "      <td>NaN</td>\n",
       "    </tr>\n",
       "    <tr>\n",
       "      <th>4</th>\n",
       "      <td>5</td>\n",
       "      <td>5</td>\n",
       "      <td>2015-07-31</td>\n",
       "      <td>4822</td>\n",
       "      <td>559</td>\n",
       "      <td>1</td>\n",
       "      <td>1</td>\n",
       "      <td>0</td>\n",
       "      <td>1</td>\n",
       "      <td>NaN</td>\n",
       "      <td>NaN</td>\n",
       "      <td>NaN</td>\n",
       "      <td>NaN</td>\n",
       "      <td>NaN</td>\n",
       "      <td>NaN</td>\n",
       "      <td>NaN</td>\n",
       "      <td>NaN</td>\n",
       "      <td>NaN</td>\n",
       "    </tr>\n",
       "  </tbody>\n",
       "</table>\n",
       "</div>"
      ],
      "text/plain": [
       "   Store  DayOfWeek        Date  Sales  Customers  Open  Promo StateHoliday  \\\n",
       "0      1          5  2015-07-31   5263        555     1      1            0   \n",
       "1      2          5  2015-07-31   6064        625     1      1            0   \n",
       "2      3          5  2015-07-31   8314        821     1      1            0   \n",
       "3      4          5  2015-07-31  13995       1498     1      1            0   \n",
       "4      5          5  2015-07-31   4822        559     1      1            0   \n",
       "\n",
       "   SchoolHoliday  StoreType  Assortment  CompetitionDistance  \\\n",
       "0              1        NaN         NaN                  NaN   \n",
       "1              1        1.0         1.0                570.0   \n",
       "2              1        1.0         1.0              14130.0   \n",
       "3              1        NaN         NaN                  NaN   \n",
       "4              1        NaN         NaN                  NaN   \n",
       "\n",
       "   CompetitionOpenSinceMonth  CompetitionOpenSinceYear  Promo2  \\\n",
       "0                        NaN                       NaN     NaN   \n",
       "1                       11.0                    2007.0     1.0   \n",
       "2                       12.0                    2006.0     1.0   \n",
       "3                        NaN                       NaN     NaN   \n",
       "4                        NaN                       NaN     NaN   \n",
       "\n",
       "   Promo2SinceWeek  Promo2SinceYear    PromoInterval  \n",
       "0              NaN              NaN              NaN  \n",
       "1             13.0           2010.0  Jan,Apr,Jul,Oct  \n",
       "2             14.0           2011.0  Jan,Apr,Jul,Oct  \n",
       "3              NaN              NaN              NaN  \n",
       "4              NaN              NaN              NaN  "
      ]
     },
     "execution_count": 177,
     "metadata": {},
     "output_type": "execute_result"
    }
   ],
   "source": [
    "#A continuación hacemos un merge con los datasets tienda y venta.\n",
    "\n",
    "data = pd.merge(venta, tienda, on='Store', how='left')\n",
    "data.head()"
   ]
  },
  {
   "cell_type": "code",
   "execution_count": 178,
   "metadata": {},
   "outputs": [
    {
     "data": {
      "text/plain": [
       "(1017209, 18)"
      ]
     },
     "execution_count": 178,
     "metadata": {},
     "output_type": "execute_result"
    }
   ],
   "source": [
    "data.shape"
   ]
  },
  {
   "cell_type": "code",
   "execution_count": 179,
   "metadata": {},
   "outputs": [
    {
     "data": {
      "text/plain": [
       "Store                             0\n",
       "DayOfWeek                         0\n",
       "Date                              0\n",
       "Sales                             0\n",
       "Customers                         0\n",
       "Open                              0\n",
       "Promo                             0\n",
       "StateHoliday                      0\n",
       "SchoolHoliday                     0\n",
       "StoreType                    692883\n",
       "Assortment                   692883\n",
       "CompetitionDistance          692883\n",
       "CompetitionOpenSinceMonth    692883\n",
       "CompetitionOpenSinceYear     692883\n",
       "Promo2                       692883\n",
       "Promo2SinceWeek              692883\n",
       "Promo2SinceYear              692883\n",
       "PromoInterval                692883\n",
       "dtype: int64"
      ]
     },
     "execution_count": 179,
     "metadata": {},
     "output_type": "execute_result"
    }
   ],
   "source": [
    "data.isnull().sum()"
   ]
  },
  {
   "cell_type": "code",
   "execution_count": 180,
   "metadata": {},
   "outputs": [],
   "source": [
    "# Al hacer el merge se han generado muchos valores NaN. Dado que lo que me interesa es \"aligerar\" el dataset por problemas de\n",
    "# memoria, elimino elimino dichos valores. \n",
    "\n",
    "data.dropna(inplace = True)"
   ]
  },
  {
   "cell_type": "code",
   "execution_count": 181,
   "metadata": {},
   "outputs": [
    {
     "data": {
      "text/plain": [
       "Store                        0\n",
       "DayOfWeek                    0\n",
       "Date                         0\n",
       "Sales                        0\n",
       "Customers                    0\n",
       "Open                         0\n",
       "Promo                        0\n",
       "StateHoliday                 0\n",
       "SchoolHoliday                0\n",
       "StoreType                    0\n",
       "Assortment                   0\n",
       "CompetitionDistance          0\n",
       "CompetitionOpenSinceMonth    0\n",
       "CompetitionOpenSinceYear     0\n",
       "Promo2                       0\n",
       "Promo2SinceWeek              0\n",
       "Promo2SinceYear              0\n",
       "PromoInterval                0\n",
       "dtype: int64"
      ]
     },
     "execution_count": 181,
     "metadata": {},
     "output_type": "execute_result"
    }
   ],
   "source": [
    "data.isnull().sum()"
   ]
  },
  {
   "cell_type": "code",
   "execution_count": 182,
   "metadata": {},
   "outputs": [],
   "source": [
    "def checkpromomonth(row):\n",
    " if (row['MonthName'] in row['PromoInterval']):\n",
    "    return 1\n",
    " else:\n",
    "    return 0"
   ]
  },
  {
   "cell_type": "code",
   "execution_count": 183,
   "metadata": {},
   "outputs": [],
   "source": [
    "def ProcessData(data):\n",
    "    data[\"CompetitionDistance\"].fillna(data[\"CompetitionDistance\"].mean(), inplace = True)\n",
    "    \n",
    "    data['StateHoliday']= data['StateHoliday'].map({'0':0, 0: 0,'a':1, 'b' : 2, 'c': 3})\n",
    "    \n",
    "    data['Date']=pd.to_datetime(data['Date'])\n",
    "    data['Year']=data['Date'].dt.year\n",
    "    data['MonthNumber']=data['Date'].dt.month\n",
    "    data['MonthName']=data['MonthNumber'].apply(lambda x: calendar.month_abbr[x])\n",
    "    data['Day']=data['Date'].dt.day\n",
    "    data['WeekNumber']=data['Date'].dt.weekofyear\n",
    "\n",
    "    data['CompetitionOpen'] = 12 * (data['Year'] - data['CompetitionOpenSinceYear']) + (data['MonthNumber'] - data['CompetitionOpenSinceMonth'])\n",
    "    data['CompetitionOpen'] = data['CompetitionOpen'].apply(lambda x: x if x > 0 else 0)\n",
    "\n",
    "    data['Promo2Open'] = 12 * (data['Year'] - data['Promo2SinceYear']) + (data['WeekNumber'] - data['Promo2SinceWeek']) / float(4)\n",
    "    data['Promo2Open'] = data['Promo2Open'].apply(lambda x: x if x > 0 else 0)\n",
    "\n",
    "    data['PromoInterval']=data['PromoInterval'].astype(str)\n",
    "    \n",
    "    data['IsPromoMonth'] =  data.apply(lambda row: checkpromomonth(row),axis=1)\n",
    "\n",
    "    data.drop(['CompetitionOpenSinceMonth', 'CompetitionOpenSinceYear'], axis = 1,  inplace = True)\n",
    "    data.drop(['Promo2SinceYear', 'Promo2SinceWeek'], axis = 1,  inplace = True)\n",
    "    data.drop(['Date', 'MonthName','PromoInterval'], axis = 1,  inplace = True)"
   ]
  },
  {
   "cell_type": "code",
   "execution_count": 184,
   "metadata": {},
   "outputs": [],
   "source": [
    "ProcessData(data)"
   ]
  },
  {
   "cell_type": "code",
   "execution_count": 185,
   "metadata": {},
   "outputs": [
    {
     "data": {
      "text/html": [
       "<div>\n",
       "<style scoped>\n",
       "    .dataframe tbody tr th:only-of-type {\n",
       "        vertical-align: middle;\n",
       "    }\n",
       "\n",
       "    .dataframe tbody tr th {\n",
       "        vertical-align: top;\n",
       "    }\n",
       "\n",
       "    .dataframe thead th {\n",
       "        text-align: right;\n",
       "    }\n",
       "</style>\n",
       "<table border=\"1\" class=\"dataframe\">\n",
       "  <thead>\n",
       "    <tr style=\"text-align: right;\">\n",
       "      <th></th>\n",
       "      <th>Store</th>\n",
       "      <th>DayOfWeek</th>\n",
       "      <th>Sales</th>\n",
       "      <th>Customers</th>\n",
       "      <th>Open</th>\n",
       "      <th>Promo</th>\n",
       "      <th>StateHoliday</th>\n",
       "      <th>SchoolHoliday</th>\n",
       "      <th>StoreType</th>\n",
       "      <th>Assortment</th>\n",
       "      <th>CompetitionDistance</th>\n",
       "      <th>Promo2</th>\n",
       "      <th>Year</th>\n",
       "      <th>MonthNumber</th>\n",
       "      <th>Day</th>\n",
       "      <th>WeekNumber</th>\n",
       "      <th>CompetitionOpen</th>\n",
       "      <th>Promo2Open</th>\n",
       "      <th>IsPromoMonth</th>\n",
       "    </tr>\n",
       "  </thead>\n",
       "  <tbody>\n",
       "    <tr>\n",
       "      <th>1</th>\n",
       "      <td>2</td>\n",
       "      <td>5</td>\n",
       "      <td>6064</td>\n",
       "      <td>625</td>\n",
       "      <td>1</td>\n",
       "      <td>1</td>\n",
       "      <td>0</td>\n",
       "      <td>1</td>\n",
       "      <td>1.0</td>\n",
       "      <td>1.0</td>\n",
       "      <td>570.0</td>\n",
       "      <td>1.0</td>\n",
       "      <td>2015</td>\n",
       "      <td>7</td>\n",
       "      <td>31</td>\n",
       "      <td>31</td>\n",
       "      <td>92.0</td>\n",
       "      <td>64.50</td>\n",
       "      <td>1</td>\n",
       "    </tr>\n",
       "    <tr>\n",
       "      <th>2</th>\n",
       "      <td>3</td>\n",
       "      <td>5</td>\n",
       "      <td>8314</td>\n",
       "      <td>821</td>\n",
       "      <td>1</td>\n",
       "      <td>1</td>\n",
       "      <td>0</td>\n",
       "      <td>1</td>\n",
       "      <td>1.0</td>\n",
       "      <td>1.0</td>\n",
       "      <td>14130.0</td>\n",
       "      <td>1.0</td>\n",
       "      <td>2015</td>\n",
       "      <td>7</td>\n",
       "      <td>31</td>\n",
       "      <td>31</td>\n",
       "      <td>103.0</td>\n",
       "      <td>52.25</td>\n",
       "      <td>1</td>\n",
       "    </tr>\n",
       "    <tr>\n",
       "      <th>10</th>\n",
       "      <td>11</td>\n",
       "      <td>5</td>\n",
       "      <td>10457</td>\n",
       "      <td>1236</td>\n",
       "      <td>1</td>\n",
       "      <td>1</td>\n",
       "      <td>0</td>\n",
       "      <td>1</td>\n",
       "      <td>1.0</td>\n",
       "      <td>3.0</td>\n",
       "      <td>960.0</td>\n",
       "      <td>1.0</td>\n",
       "      <td>2015</td>\n",
       "      <td>7</td>\n",
       "      <td>31</td>\n",
       "      <td>31</td>\n",
       "      <td>44.0</td>\n",
       "      <td>43.50</td>\n",
       "      <td>1</td>\n",
       "    </tr>\n",
       "    <tr>\n",
       "      <th>13</th>\n",
       "      <td>14</td>\n",
       "      <td>5</td>\n",
       "      <td>6544</td>\n",
       "      <td>710</td>\n",
       "      <td>1</td>\n",
       "      <td>1</td>\n",
       "      <td>0</td>\n",
       "      <td>1</td>\n",
       "      <td>1.0</td>\n",
       "      <td>1.0</td>\n",
       "      <td>1300.0</td>\n",
       "      <td>1.0</td>\n",
       "      <td>2015</td>\n",
       "      <td>7</td>\n",
       "      <td>31</td>\n",
       "      <td>31</td>\n",
       "      <td>16.0</td>\n",
       "      <td>45.75</td>\n",
       "      <td>1</td>\n",
       "    </tr>\n",
       "    <tr>\n",
       "      <th>14</th>\n",
       "      <td>15</td>\n",
       "      <td>5</td>\n",
       "      <td>9191</td>\n",
       "      <td>766</td>\n",
       "      <td>1</td>\n",
       "      <td>1</td>\n",
       "      <td>0</td>\n",
       "      <td>1</td>\n",
       "      <td>4.0</td>\n",
       "      <td>3.0</td>\n",
       "      <td>4110.0</td>\n",
       "      <td>1.0</td>\n",
       "      <td>2015</td>\n",
       "      <td>7</td>\n",
       "      <td>31</td>\n",
       "      <td>31</td>\n",
       "      <td>64.0</td>\n",
       "      <td>52.25</td>\n",
       "      <td>1</td>\n",
       "    </tr>\n",
       "  </tbody>\n",
       "</table>\n",
       "</div>"
      ],
      "text/plain": [
       "    Store  DayOfWeek  Sales  Customers  Open  Promo  StateHoliday  \\\n",
       "1       2          5   6064        625     1      1             0   \n",
       "2       3          5   8314        821     1      1             0   \n",
       "10     11          5  10457       1236     1      1             0   \n",
       "13     14          5   6544        710     1      1             0   \n",
       "14     15          5   9191        766     1      1             0   \n",
       "\n",
       "    SchoolHoliday  StoreType  Assortment  CompetitionDistance  Promo2  Year  \\\n",
       "1               1        1.0         1.0                570.0     1.0  2015   \n",
       "2               1        1.0         1.0              14130.0     1.0  2015   \n",
       "10              1        1.0         3.0                960.0     1.0  2015   \n",
       "13              1        1.0         1.0               1300.0     1.0  2015   \n",
       "14              1        4.0         3.0               4110.0     1.0  2015   \n",
       "\n",
       "    MonthNumber  Day  WeekNumber  CompetitionOpen  Promo2Open  IsPromoMonth  \n",
       "1             7   31          31             92.0       64.50             1  \n",
       "2             7   31          31            103.0       52.25             1  \n",
       "10            7   31          31             44.0       43.50             1  \n",
       "13            7   31          31             16.0       45.75             1  \n",
       "14            7   31          31             64.0       52.25             1  "
      ]
     },
     "execution_count": 185,
     "metadata": {},
     "output_type": "execute_result"
    }
   ],
   "source": [
    "data.head()"
   ]
  },
  {
   "cell_type": "code",
   "execution_count": 186,
   "metadata": {},
   "outputs": [
    {
     "name": "stdout",
     "output_type": "stream",
     "text": [
      "<class 'pandas.core.frame.DataFrame'>\n",
      "Int64Index: 324326 entries, 1 to 1017204\n",
      "Data columns (total 19 columns):\n",
      " #   Column               Non-Null Count   Dtype  \n",
      "---  ------               --------------   -----  \n",
      " 0   Store                324326 non-null  int64  \n",
      " 1   DayOfWeek            324326 non-null  int64  \n",
      " 2   Sales                324326 non-null  int64  \n",
      " 3   Customers            324326 non-null  int64  \n",
      " 4   Open                 324326 non-null  int64  \n",
      " 5   Promo                324326 non-null  int64  \n",
      " 6   StateHoliday         324326 non-null  int64  \n",
      " 7   SchoolHoliday        324326 non-null  int64  \n",
      " 8   StoreType            324326 non-null  float64\n",
      " 9   Assortment           324326 non-null  float64\n",
      " 10  CompetitionDistance  324326 non-null  float64\n",
      " 11  Promo2               324326 non-null  float64\n",
      " 12  Year                 324326 non-null  int64  \n",
      " 13  MonthNumber          324326 non-null  int64  \n",
      " 14  Day                  324326 non-null  int64  \n",
      " 15  WeekNumber           324326 non-null  int64  \n",
      " 16  CompetitionOpen      324326 non-null  float64\n",
      " 17  Promo2Open           324326 non-null  float64\n",
      " 18  IsPromoMonth         324326 non-null  int64  \n",
      "dtypes: float64(6), int64(13)\n",
      "memory usage: 49.5 MB\n"
     ]
    }
   ],
   "source": [
    "data.info()"
   ]
  },
  {
   "cell_type": "code",
   "execution_count": 187,
   "metadata": {},
   "outputs": [
    {
     "data": {
      "text/html": [
       "<div>\n",
       "<style scoped>\n",
       "    .dataframe tbody tr th:only-of-type {\n",
       "        vertical-align: middle;\n",
       "    }\n",
       "\n",
       "    .dataframe tbody tr th {\n",
       "        vertical-align: top;\n",
       "    }\n",
       "\n",
       "    .dataframe thead th {\n",
       "        text-align: right;\n",
       "    }\n",
       "</style>\n",
       "<table border=\"1\" class=\"dataframe\">\n",
       "  <thead>\n",
       "    <tr style=\"text-align: right;\">\n",
       "      <th></th>\n",
       "      <th>count</th>\n",
       "      <th>mean</th>\n",
       "      <th>std</th>\n",
       "      <th>min</th>\n",
       "      <th>25%</th>\n",
       "      <th>50%</th>\n",
       "      <th>75%</th>\n",
       "      <th>max</th>\n",
       "    </tr>\n",
       "  </thead>\n",
       "  <tbody>\n",
       "    <tr>\n",
       "      <th>Store</th>\n",
       "      <td>324326.0</td>\n",
       "      <td>558.92</td>\n",
       "      <td>327.25</td>\n",
       "      <td>2.0</td>\n",
       "      <td>276.00</td>\n",
       "      <td>563.0</td>\n",
       "      <td>848.0</td>\n",
       "      <td>1111.0</td>\n",
       "    </tr>\n",
       "    <tr>\n",
       "      <th>DayOfWeek</th>\n",
       "      <td>324326.0</td>\n",
       "      <td>4.00</td>\n",
       "      <td>2.00</td>\n",
       "      <td>1.0</td>\n",
       "      <td>2.00</td>\n",
       "      <td>4.0</td>\n",
       "      <td>6.0</td>\n",
       "      <td>7.0</td>\n",
       "    </tr>\n",
       "    <tr>\n",
       "      <th>Sales</th>\n",
       "      <td>324326.0</td>\n",
       "      <td>5398.98</td>\n",
       "      <td>3496.79</td>\n",
       "      <td>0.0</td>\n",
       "      <td>3527.00</td>\n",
       "      <td>5467.0</td>\n",
       "      <td>7453.0</td>\n",
       "      <td>37646.0</td>\n",
       "    </tr>\n",
       "    <tr>\n",
       "      <th>Customers</th>\n",
       "      <td>324326.0</td>\n",
       "      <td>553.96</td>\n",
       "      <td>361.78</td>\n",
       "      <td>0.0</td>\n",
       "      <td>369.00</td>\n",
       "      <td>557.0</td>\n",
       "      <td>748.0</td>\n",
       "      <td>3200.0</td>\n",
       "    </tr>\n",
       "    <tr>\n",
       "      <th>Open</th>\n",
       "      <td>324326.0</td>\n",
       "      <td>0.83</td>\n",
       "      <td>0.38</td>\n",
       "      <td>0.0</td>\n",
       "      <td>1.00</td>\n",
       "      <td>1.0</td>\n",
       "      <td>1.0</td>\n",
       "      <td>1.0</td>\n",
       "    </tr>\n",
       "    <tr>\n",
       "      <th>Promo</th>\n",
       "      <td>324326.0</td>\n",
       "      <td>0.38</td>\n",
       "      <td>0.49</td>\n",
       "      <td>0.0</td>\n",
       "      <td>0.00</td>\n",
       "      <td>0.0</td>\n",
       "      <td>1.0</td>\n",
       "      <td>1.0</td>\n",
       "    </tr>\n",
       "    <tr>\n",
       "      <th>StateHoliday</th>\n",
       "      <td>324326.0</td>\n",
       "      <td>0.05</td>\n",
       "      <td>0.28</td>\n",
       "      <td>0.0</td>\n",
       "      <td>0.00</td>\n",
       "      <td>0.0</td>\n",
       "      <td>0.0</td>\n",
       "      <td>3.0</td>\n",
       "    </tr>\n",
       "    <tr>\n",
       "      <th>SchoolHoliday</th>\n",
       "      <td>324326.0</td>\n",
       "      <td>0.18</td>\n",
       "      <td>0.38</td>\n",
       "      <td>0.0</td>\n",
       "      <td>0.00</td>\n",
       "      <td>0.0</td>\n",
       "      <td>0.0</td>\n",
       "      <td>1.0</td>\n",
       "    </tr>\n",
       "    <tr>\n",
       "      <th>StoreType</th>\n",
       "      <td>324326.0</td>\n",
       "      <td>2.22</td>\n",
       "      <td>1.38</td>\n",
       "      <td>1.0</td>\n",
       "      <td>1.00</td>\n",
       "      <td>1.0</td>\n",
       "      <td>4.0</td>\n",
       "      <td>4.0</td>\n",
       "    </tr>\n",
       "    <tr>\n",
       "      <th>Assortment</th>\n",
       "      <td>324326.0</td>\n",
       "      <td>1.83</td>\n",
       "      <td>0.99</td>\n",
       "      <td>1.0</td>\n",
       "      <td>1.00</td>\n",
       "      <td>1.0</td>\n",
       "      <td>3.0</td>\n",
       "      <td>3.0</td>\n",
       "    </tr>\n",
       "    <tr>\n",
       "      <th>CompetitionDistance</th>\n",
       "      <td>324326.0</td>\n",
       "      <td>4285.11</td>\n",
       "      <td>5249.21</td>\n",
       "      <td>40.0</td>\n",
       "      <td>600.00</td>\n",
       "      <td>2230.0</td>\n",
       "      <td>5630.0</td>\n",
       "      <td>27190.0</td>\n",
       "    </tr>\n",
       "    <tr>\n",
       "      <th>Promo2</th>\n",
       "      <td>324326.0</td>\n",
       "      <td>1.00</td>\n",
       "      <td>0.00</td>\n",
       "      <td>1.0</td>\n",
       "      <td>1.00</td>\n",
       "      <td>1.0</td>\n",
       "      <td>1.0</td>\n",
       "      <td>1.0</td>\n",
       "    </tr>\n",
       "    <tr>\n",
       "      <th>Year</th>\n",
       "      <td>324326.0</td>\n",
       "      <td>2013.83</td>\n",
       "      <td>0.79</td>\n",
       "      <td>2013.0</td>\n",
       "      <td>2013.00</td>\n",
       "      <td>2014.0</td>\n",
       "      <td>2014.0</td>\n",
       "      <td>2015.0</td>\n",
       "    </tr>\n",
       "    <tr>\n",
       "      <th>MonthNumber</th>\n",
       "      <td>324326.0</td>\n",
       "      <td>5.75</td>\n",
       "      <td>3.30</td>\n",
       "      <td>1.0</td>\n",
       "      <td>3.00</td>\n",
       "      <td>5.0</td>\n",
       "      <td>8.0</td>\n",
       "      <td>12.0</td>\n",
       "    </tr>\n",
       "    <tr>\n",
       "      <th>Day</th>\n",
       "      <td>324326.0</td>\n",
       "      <td>15.70</td>\n",
       "      <td>8.79</td>\n",
       "      <td>1.0</td>\n",
       "      <td>8.00</td>\n",
       "      <td>16.0</td>\n",
       "      <td>23.0</td>\n",
       "      <td>31.0</td>\n",
       "    </tr>\n",
       "    <tr>\n",
       "      <th>WeekNumber</th>\n",
       "      <td>324326.0</td>\n",
       "      <td>23.21</td>\n",
       "      <td>14.33</td>\n",
       "      <td>1.0</td>\n",
       "      <td>11.00</td>\n",
       "      <td>22.0</td>\n",
       "      <td>34.0</td>\n",
       "      <td>52.0</td>\n",
       "    </tr>\n",
       "    <tr>\n",
       "      <th>CompetitionOpen</th>\n",
       "      <td>324326.0</td>\n",
       "      <td>67.25</td>\n",
       "      <td>88.56</td>\n",
       "      <td>0.0</td>\n",
       "      <td>17.00</td>\n",
       "      <td>52.0</td>\n",
       "      <td>98.0</td>\n",
       "      <td>1386.0</td>\n",
       "    </tr>\n",
       "    <tr>\n",
       "      <th>Promo2Open</th>\n",
       "      <td>324326.0</td>\n",
       "      <td>25.53</td>\n",
       "      <td>19.68</td>\n",
       "      <td>0.0</td>\n",
       "      <td>6.75</td>\n",
       "      <td>24.5</td>\n",
       "      <td>41.5</td>\n",
       "      <td>72.0</td>\n",
       "    </tr>\n",
       "    <tr>\n",
       "      <th>IsPromoMonth</th>\n",
       "      <td>324326.0</td>\n",
       "      <td>0.34</td>\n",
       "      <td>0.48</td>\n",
       "      <td>0.0</td>\n",
       "      <td>0.00</td>\n",
       "      <td>0.0</td>\n",
       "      <td>1.0</td>\n",
       "      <td>1.0</td>\n",
       "    </tr>\n",
       "  </tbody>\n",
       "</table>\n",
       "</div>"
      ],
      "text/plain": [
       "                        count     mean      std     min      25%     50%  \\\n",
       "Store                324326.0   558.92   327.25     2.0   276.00   563.0   \n",
       "DayOfWeek            324326.0     4.00     2.00     1.0     2.00     4.0   \n",
       "Sales                324326.0  5398.98  3496.79     0.0  3527.00  5467.0   \n",
       "Customers            324326.0   553.96   361.78     0.0   369.00   557.0   \n",
       "Open                 324326.0     0.83     0.38     0.0     1.00     1.0   \n",
       "Promo                324326.0     0.38     0.49     0.0     0.00     0.0   \n",
       "StateHoliday         324326.0     0.05     0.28     0.0     0.00     0.0   \n",
       "SchoolHoliday        324326.0     0.18     0.38     0.0     0.00     0.0   \n",
       "StoreType            324326.0     2.22     1.38     1.0     1.00     1.0   \n",
       "Assortment           324326.0     1.83     0.99     1.0     1.00     1.0   \n",
       "CompetitionDistance  324326.0  4285.11  5249.21    40.0   600.00  2230.0   \n",
       "Promo2               324326.0     1.00     0.00     1.0     1.00     1.0   \n",
       "Year                 324326.0  2013.83     0.79  2013.0  2013.00  2014.0   \n",
       "MonthNumber          324326.0     5.75     3.30     1.0     3.00     5.0   \n",
       "Day                  324326.0    15.70     8.79     1.0     8.00    16.0   \n",
       "WeekNumber           324326.0    23.21    14.33     1.0    11.00    22.0   \n",
       "CompetitionOpen      324326.0    67.25    88.56     0.0    17.00    52.0   \n",
       "Promo2Open           324326.0    25.53    19.68     0.0     6.75    24.5   \n",
       "IsPromoMonth         324326.0     0.34     0.48     0.0     0.00     0.0   \n",
       "\n",
       "                        75%      max  \n",
       "Store                 848.0   1111.0  \n",
       "DayOfWeek               6.0      7.0  \n",
       "Sales                7453.0  37646.0  \n",
       "Customers             748.0   3200.0  \n",
       "Open                    1.0      1.0  \n",
       "Promo                   1.0      1.0  \n",
       "StateHoliday            0.0      3.0  \n",
       "SchoolHoliday           0.0      1.0  \n",
       "StoreType               4.0      4.0  \n",
       "Assortment              3.0      3.0  \n",
       "CompetitionDistance  5630.0  27190.0  \n",
       "Promo2                  1.0      1.0  \n",
       "Year                 2014.0   2015.0  \n",
       "MonthNumber             8.0     12.0  \n",
       "Day                    23.0     31.0  \n",
       "WeekNumber             34.0     52.0  \n",
       "CompetitionOpen        98.0   1386.0  \n",
       "Promo2Open             41.5     72.0  \n",
       "IsPromoMonth            1.0      1.0  "
      ]
     },
     "execution_count": 187,
     "metadata": {},
     "output_type": "execute_result"
    }
   ],
   "source": [
    "data.describe().T.round(2)"
   ]
  },
  {
   "cell_type": "code",
   "execution_count": 88,
   "metadata": {},
   "outputs": [],
   "source": [
    "# Ya tenemos nuestro dataset limpio y listo para trabajar con él. "
   ]
  },
  {
   "cell_type": "code",
   "execution_count": 67,
   "metadata": {},
   "outputs": [
    {
     "data": {
      "text/plain": [
       "<AxesSubplot:>"
      ]
     },
     "execution_count": 67,
     "metadata": {},
     "output_type": "execute_result"
    },
    {
     "data": {
      "image/png": "[encoded data removed]",
      "text/plain": [
       "<Figure size 1440x648 with 2 Axes>"
      ]
     },
     "metadata": {
      "needs_background": "light"
     },
     "output_type": "display_data"
    }
   ],
   "source": [
    "# Observamos que existe muy poca correlación entre los atributos del dataset. Siguiendo la sugerencia de mejora recibidos en la\n",
    "# tasca anterior, he dibujado sólo el 'lower triangle' para evitar la repetición ;)\n",
    "\n",
    "corr = data.drop(['Customers', 'Sales'], axis = 1).corr()\n",
    "matrix = np.triu(corr)\n",
    "fig, ax = plt.subplots(figsize = [20, 9])\n",
    "\n",
    "sns.heatmap(corr, annot = True, vmin = -1, vmax = 1, center = 0, cmap=\"coolwarm\", mask= matrix)"
   ]
  },
  {
   "cell_type": "code",
   "execution_count": 188,
   "metadata": {},
   "outputs": [],
   "source": [
    "#Definimos a continuación nuestros valores X e y(target)\n",
    "\n",
    "y = data['Sales']\n",
    "data.drop(['Sales','Customers'], axis = 1,  inplace = True)"
   ]
  },
  {
   "cell_type": "code",
   "execution_count": 189,
   "metadata": {},
   "outputs": [
    {
     "data": {
      "text/plain": [
       "Store                  365\n",
       "DayOfWeek                7\n",
       "Open                     2\n",
       "Promo                    2\n",
       "StateHoliday             4\n",
       "SchoolHoliday            2\n",
       "StoreType                3\n",
       "Assortment               2\n",
       "CompetitionDistance    279\n",
       "Promo2                   1\n",
       "Year                     3\n",
       "MonthNumber             12\n",
       "Day                     31\n",
       "WeekNumber              52\n",
       "CompetitionOpen        335\n",
       "Promo2Open             289\n",
       "IsPromoMonth             2\n",
       "dtype: int64"
      ]
     },
     "execution_count": 189,
     "metadata": {},
     "output_type": "execute_result"
    }
   ],
   "source": [
    "data.nunique()"
   ]
  },
  {
   "cell_type": "code",
   "execution_count": 190,
   "metadata": {},
   "outputs": [
    {
     "data": {
      "text/plain": [
       "(Index(['Store', 'CompetitionDistance', 'Day', 'WeekNumber', 'CompetitionOpen',\n",
       "        'Promo2Open'],\n",
       "       dtype='object'),\n",
       " Index(['DayOfWeek', 'Open', 'Promo', 'StateHoliday', 'SchoolHoliday',\n",
       "        'StoreType', 'Assortment', 'Promo2', 'Year', 'MonthNumber',\n",
       "        'IsPromoMonth'],\n",
       "       dtype='object'))"
      ]
     },
     "execution_count": 190,
     "metadata": {},
     "output_type": "execute_result"
    }
   ],
   "source": [
    "num_columns = data.columns[data.nunique() > 12]\n",
    "cat_columns = data.columns[data.nunique() <= 12]\n",
    "num_columns, cat_columns"
   ]
  },
  {
   "cell_type": "code",
   "execution_count": 71,
   "metadata": {},
   "outputs": [
    {
     "data": {
      "image/png": "[encoded data removed]",
      "text/plain": [
       "<Figure size 1656x720 with 6 Axes>"
      ]
     },
     "metadata": {
      "needs_background": "light"
     },
     "output_type": "display_data"
    }
   ],
   "source": [
    "fig, ax = plt.subplots(nrows = 2, ncols = 3, figsize = [23, 10])\n",
    "for feature, ax in zip(num_columns, ax.flatten()):\n",
    "  sns.boxplot(data[feature], ax =ax, orient = 'v')\n",
    "  ax.set_title(feature)"
   ]
  },
  {
   "cell_type": "code",
   "execution_count": 191,
   "metadata": {},
   "outputs": [
    {
     "data": {
      "text/plain": [
       "array([[-0.98076923, -0.33001988,  1.        , ...,  0.        ,\n",
       "         0.        ,  1.        ],\n",
       "       [-0.97902098,  2.36580517,  1.        , ...,  0.        ,\n",
       "         0.        ,  1.        ],\n",
       "       [-0.96503497, -0.25248509,  1.        , ...,  0.        ,\n",
       "         0.        ,  1.        ],\n",
       "       ...,\n",
       "       [ 0.95104895, -0.16500994, -1.        , ...,  0.        ,\n",
       "         0.        ,  1.        ],\n",
       "       [ 0.95454545,  0.25049702, -1.        , ...,  0.        ,\n",
       "         0.        ,  1.        ],\n",
       "       [ 0.95804196, -0.06560636, -1.        , ...,  0.        ,\n",
       "         0.        ,  1.        ]])"
      ]
     },
     "execution_count": 191,
     "metadata": {},
     "output_type": "execute_result"
    }
   ],
   "source": [
    "ct=ColumnTransformer([\n",
    "    ('rs',RobustScaler(),num_columns), # utilizamos RobustScaler para reducir la influencia de los outliers\n",
    "    ('ohe',OneHotEncoder(),cat_columns),\n",
    "    ],remainder=\"passthrough\")\n",
    "\n",
    "ct.fit_transform(data)"
   ]
  },
  {
   "cell_type": "code",
   "execution_count": 192,
   "metadata": {},
   "outputs": [],
   "source": [
    "X=data"
   ]
  },
  {
   "cell_type": "code",
   "execution_count": 193,
   "metadata": {},
   "outputs": [],
   "source": [
    "#Usaremos los datos escalados divididos internamente en train/test, crearemos nuestro modelo y haremos la predicción test data. \n",
    "\n",
    "X_train,X_test,y_train,y_test=train_test_split(X,y,test_size=.30)"
   ]
  },
  {
   "cell_type": "code",
   "execution_count": 194,
   "metadata": {},
   "outputs": [
    {
     "data": {
      "text/plain": [
       "{'memory': None,\n",
       " 'steps': [('sts', StandardScaler()),\n",
       "  ('pca', PCA()),\n",
       "  ('rf', RandomForestRegressor(random_state=42))],\n",
       " 'verbose': False,\n",
       " 'sts': StandardScaler(),\n",
       " 'pca': PCA(),\n",
       " 'rf': RandomForestRegressor(random_state=42),\n",
       " 'sts__copy': True,\n",
       " 'sts__with_mean': True,\n",
       " 'sts__with_std': True,\n",
       " 'pca__copy': True,\n",
       " 'pca__iterated_power': 'auto',\n",
       " 'pca__n_components': None,\n",
       " 'pca__random_state': None,\n",
       " 'pca__svd_solver': 'auto',\n",
       " 'pca__tol': 0.0,\n",
       " 'pca__whiten': False,\n",
       " 'rf__bootstrap': True,\n",
       " 'rf__ccp_alpha': 0.0,\n",
       " 'rf__criterion': 'mse',\n",
       " 'rf__max_depth': None,\n",
       " 'rf__max_features': 'auto',\n",
       " 'rf__max_leaf_nodes': None,\n",
       " 'rf__max_samples': None,\n",
       " 'rf__min_impurity_decrease': 0.0,\n",
       " 'rf__min_impurity_split': None,\n",
       " 'rf__min_samples_leaf': 1,\n",
       " 'rf__min_samples_split': 2,\n",
       " 'rf__min_weight_fraction_leaf': 0.0,\n",
       " 'rf__n_estimators': 100,\n",
       " 'rf__n_jobs': None,\n",
       " 'rf__oob_score': False,\n",
       " 'rf__random_state': 42,\n",
       " 'rf__verbose': 0,\n",
       " 'rf__warm_start': False}"
      ]
     },
     "execution_count": 194,
     "metadata": {},
     "output_type": "execute_result"
    }
   ],
   "source": [
    "# Creamos nuestro Pipeline para RandomForestRegressor\n",
    "\n",
    "steps_rf = [('sts', StandardScaler() ),\n",
    "            ('pca', PCA() ),\n",
    "            ('rf',  RandomForestRegressor(random_state = 42) )]\n",
    "\n",
    "pipe_rf = Pipeline(steps_rf)\n",
    "\n",
    "pipe_rf.get_params()"
   ]
  },
  {
   "cell_type": "code",
   "execution_count": 195,
   "metadata": {},
   "outputs": [],
   "source": [
    "# A continuación vamos a utilizar Grid Search para definir los parámetros de nuestro Pipeline."
   ]
  },
  {
   "cell_type": "code",
   "execution_count": 196,
   "metadata": {},
   "outputs": [
    {
     "data": {
      "text/html": [
       "<div>\n",
       "<style scoped>\n",
       "    .dataframe tbody tr th:only-of-type {\n",
       "        vertical-align: middle;\n",
       "    }\n",
       "\n",
       "    .dataframe tbody tr th {\n",
       "        vertical-align: top;\n",
       "    }\n",
       "\n",
       "    .dataframe thead th {\n",
       "        text-align: right;\n",
       "    }\n",
       "</style>\n",
       "<table border=\"1\" class=\"dataframe\">\n",
       "  <thead>\n",
       "    <tr style=\"text-align: right;\">\n",
       "      <th></th>\n",
       "      <th>Store</th>\n",
       "      <th>DayOfWeek</th>\n",
       "      <th>Open</th>\n",
       "      <th>Promo</th>\n",
       "      <th>StateHoliday</th>\n",
       "      <th>SchoolHoliday</th>\n",
       "      <th>StoreType</th>\n",
       "      <th>Assortment</th>\n",
       "      <th>CompetitionDistance</th>\n",
       "      <th>Promo2</th>\n",
       "      <th>Year</th>\n",
       "      <th>MonthNumber</th>\n",
       "      <th>Day</th>\n",
       "      <th>WeekNumber</th>\n",
       "      <th>CompetitionOpen</th>\n",
       "      <th>Promo2Open</th>\n",
       "      <th>IsPromoMonth</th>\n",
       "    </tr>\n",
       "  </thead>\n",
       "  <tbody>\n",
       "    <tr>\n",
       "      <th>201189</th>\n",
       "      <td>490</td>\n",
       "      <td>7</td>\n",
       "      <td>0</td>\n",
       "      <td>0</td>\n",
       "      <td>0</td>\n",
       "      <td>0</td>\n",
       "      <td>1.0</td>\n",
       "      <td>1.0</td>\n",
       "      <td>660.0</td>\n",
       "      <td>1.0</td>\n",
       "      <td>2015</td>\n",
       "      <td>2</td>\n",
       "      <td>1</td>\n",
       "      <td>5</td>\n",
       "      <td>22.0</td>\n",
       "      <td>3.25</td>\n",
       "      <td>0</td>\n",
       "    </tr>\n",
       "    <tr>\n",
       "      <th>881341</th>\n",
       "      <td>162</td>\n",
       "      <td>4</td>\n",
       "      <td>1</td>\n",
       "      <td>1</td>\n",
       "      <td>0</td>\n",
       "      <td>0</td>\n",
       "      <td>4.0</td>\n",
       "      <td>3.0</td>\n",
       "      <td>5340.0</td>\n",
       "      <td>1.0</td>\n",
       "      <td>2013</td>\n",
       "      <td>5</td>\n",
       "      <td>2</td>\n",
       "      <td>18</td>\n",
       "      <td>14.0</td>\n",
       "      <td>37.25</td>\n",
       "      <td>0</td>\n",
       "    </tr>\n",
       "    <tr>\n",
       "      <th>923177</th>\n",
       "      <td>743</td>\n",
       "      <td>2</td>\n",
       "      <td>1</td>\n",
       "      <td>1</td>\n",
       "      <td>0</td>\n",
       "      <td>0</td>\n",
       "      <td>1.0</td>\n",
       "      <td>1.0</td>\n",
       "      <td>6710.0</td>\n",
       "      <td>1.0</td>\n",
       "      <td>2013</td>\n",
       "      <td>3</td>\n",
       "      <td>26</td>\n",
       "      <td>13</td>\n",
       "      <td>112.0</td>\n",
       "      <td>11.75</td>\n",
       "      <td>0</td>\n",
       "    </tr>\n",
       "    <tr>\n",
       "      <th>559486</th>\n",
       "      <td>542</td>\n",
       "      <td>6</td>\n",
       "      <td>1</td>\n",
       "      <td>0</td>\n",
       "      <td>0</td>\n",
       "      <td>0</td>\n",
       "      <td>1.0</td>\n",
       "      <td>1.0</td>\n",
       "      <td>7280.0</td>\n",
       "      <td>1.0</td>\n",
       "      <td>2014</td>\n",
       "      <td>2</td>\n",
       "      <td>15</td>\n",
       "      <td>7</td>\n",
       "      <td>17.0</td>\n",
       "      <td>13.50</td>\n",
       "      <td>0</td>\n",
       "    </tr>\n",
       "    <tr>\n",
       "      <th>665488</th>\n",
       "      <td>619</td>\n",
       "      <td>2</td>\n",
       "      <td>1</td>\n",
       "      <td>0</td>\n",
       "      <td>0</td>\n",
       "      <td>0</td>\n",
       "      <td>1.0</td>\n",
       "      <td>1.0</td>\n",
       "      <td>1600.0</td>\n",
       "      <td>1.0</td>\n",
       "      <td>2013</td>\n",
       "      <td>11</td>\n",
       "      <td>12</td>\n",
       "      <td>46</td>\n",
       "      <td>89.0</td>\n",
       "      <td>48.25</td>\n",
       "      <td>1</td>\n",
       "    </tr>\n",
       "  </tbody>\n",
       "</table>\n",
       "</div>"
      ],
      "text/plain": [
       "        Store  DayOfWeek  Open  Promo  StateHoliday  SchoolHoliday  StoreType  \\\n",
       "201189    490          7     0      0             0              0        1.0   \n",
       "881341    162          4     1      1             0              0        4.0   \n",
       "923177    743          2     1      1             0              0        1.0   \n",
       "559486    542          6     1      0             0              0        1.0   \n",
       "665488    619          2     1      0             0              0        1.0   \n",
       "\n",
       "        Assortment  CompetitionDistance  Promo2  Year  MonthNumber  Day  \\\n",
       "201189         1.0                660.0     1.0  2015            2    1   \n",
       "881341         3.0               5340.0     1.0  2013            5    2   \n",
       "923177         1.0               6710.0     1.0  2013            3   26   \n",
       "559486         1.0               7280.0     1.0  2014            2   15   \n",
       "665488         1.0               1600.0     1.0  2013           11   12   \n",
       "\n",
       "        WeekNumber  CompetitionOpen  Promo2Open  IsPromoMonth  \n",
       "201189           5             22.0        3.25             0  \n",
       "881341          18             14.0       37.25             0  \n",
       "923177          13            112.0       11.75             0  \n",
       "559486           7             17.0       13.50             0  \n",
       "665488          46             89.0       48.25             1  "
      ]
     },
     "execution_count": 196,
     "metadata": {},
     "output_type": "execute_result"
    }
   ],
   "source": [
    "X_train.head()"
   ]
  },
  {
   "cell_type": "code",
   "execution_count": 221,
   "metadata": {},
   "outputs": [],
   "source": [
    "param_grid = {'rf__n_estimators': [500, 100],\n",
    "              'rf__max_features': ['auto', 'sqrt'],\n",
    "              'rf__max_depth' : [8, 12, 16],\n",
    "              'rf__criterion' :['entropy','mse'],\n",
    "              'rf__min_samples_leaf': [1, 2, 4],\n",
    "              'rf__min_samples_split': [2, 5, 10]}\n",
    "\n",
    "# Instanciamos RandomizedSearch con nuestro pipe_rf. Intenté ejecutar GridSearch pero, tras más de 24h ejecutando sin resultado,\n",
    "# lo cambié por RandomizedSearch, que permite seleccionar el número de iteraciones (y por tanto, reducir el tiempo de ejecución).\n",
    "# Grid_search = GridSearchCV(estimator = pipe_rf, param_grid = param_grid, cv=2)\n",
    "\n",
    "rf_random = RandomizedSearchCV(estimator = pipe_rf, param_distributions = param_grid, n_iter = 20, cv = 2, random_state=42)"
   ]
  },
  {
   "cell_type": "code",
   "execution_count": 222,
   "metadata": {},
   "outputs": [
    {
     "data": {
      "text/plain": [
       "RandomizedSearchCV(cv=2,\n",
       "                   estimator=Pipeline(steps=[('sts', StandardScaler()),\n",
       "                                             ('pca', PCA()),\n",
       "                                             ('rf',\n",
       "                                              RandomForestRegressor(random_state=42))]),\n",
       "                   n_iter=20,\n",
       "                   param_distributions={'rf__criterion': ['entropy', 'mse'],\n",
       "                                        'rf__max_depth': [8, 12, 16],\n",
       "                                        'rf__max_features': ['auto', 'sqrt'],\n",
       "                                        'rf__min_samples_leaf': [1, 2, 4],\n",
       "                                        'rf__min_samples_split': [2, 5, 10],\n",
       "                                        'rf__n_estimators': [500, 100]},\n",
       "                   random_state=42)"
      ]
     },
     "execution_count": 222,
     "metadata": {},
     "output_type": "execute_result"
    }
   ],
   "source": [
    "rf_random.fit(X_train, y_train)"
   ]
  },
  {
   "cell_type": "code",
   "execution_count": 223,
   "metadata": {},
   "outputs": [
    {
     "name": "stdout",
     "output_type": "stream",
     "text": [
      "{'rf__n_estimators': 500, 'rf__min_samples_split': 5, 'rf__min_samples_leaf': 1, 'rf__max_features': 'auto', 'rf__max_depth': 16, 'rf__criterion': 'mse'}\n",
      "0.782542745199752\n"
     ]
    }
   ],
   "source": [
    "print(rf_random.best_params_)\n",
    "print(rf_random.best_score_)"
   ]
  },
  {
   "cell_type": "code",
   "execution_count": 227,
   "metadata": {},
   "outputs": [
    {
     "data": {
      "text/plain": [
       "RandomForestRegressor(max_depth=16, min_samples_split=5, n_estimators=500,\n",
       "                      random_state=42)"
      ]
     },
     "execution_count": 227,
     "metadata": {},
     "output_type": "execute_result"
    }
   ],
   "source": [
    "# Modelo con los parámetros obtenidos del Random Search.\n",
    "\n",
    "model_rf = RandomForestRegressor(random_state = 42, n_estimators=500, max_features= 'auto', max_depth= 16, criterion= 'mse',\n",
    "                                min_samples_split= 5, min_samples_leaf= 1)\n",
    "\n",
    "model_rf.fit(X_train, y_train)"
   ]
  },
  {
   "cell_type": "code",
   "execution_count": 228,
   "metadata": {},
   "outputs": [],
   "source": [
    "# Modelo con los parámetros iniciales antes del Random Search.\n",
    "\n",
    "model = pipe_rf.fit(X_train, y_train)"
   ]
  },
  {
   "cell_type": "code",
   "execution_count": 229,
   "metadata": {},
   "outputs": [],
   "source": [
    "y_pred = model.predict(X_test) #Predecimos con nuestro test data utilizando el modelo inicial.\n",
    "y_pred_rf = model_rf.predict(X_test) # Predecimos con nuestro test data utilizando el modelo final. "
   ]
  },
  {
   "cell_type": "code",
   "execution_count": 232,
   "metadata": {
    "scrolled": true
   },
   "outputs": [
    {
     "name": "stdout",
     "output_type": "stream",
     "text": [
      "Accuracy score before Random Search: 0.87\n",
      "Accuracy score after Random Search: 0.91\n"
     ]
    }
   ],
   "source": [
    "# Gracias al tuning de parámetros con RandomSearch hemos mejorado nuestro accuracy en un 4%!\n",
    "\n",
    "print('Accuracy score before Random Search:', r2_score(y_test, y_pred).round(2))\n",
    "print('Accuracy score after Random Search:', r2_score(y_test, y_pred_rf).round(2))"
   ]
  },
  {
   "cell_type": "markdown",
   "metadata": {},
   "source": [
    "   "
   ]
  },
  {
   "cell_type": "markdown",
   "metadata": {},
   "source": [
    "### <span style=\"color:black\">Exercici 2.</span>"
   ]
  },
  {
   "cell_type": "markdown",
   "metadata": {},
   "source": [
    "__Agafa un text en anglès que vulguis, i calcula'n la freqüència de les paraules:__ <span style=\"color:blue\">__[X] Fet__</span>"
   ]
  },
  {
   "cell_type": "code",
   "execution_count": 4,
   "metadata": {},
   "outputs": [],
   "source": [
    "# Como gran cinéfila, he seleccionado reviews de usuarios (de diversas puntuaciones, aunque la mayoría positivas) del film \n",
    "# 'Goodfather: part II' de IMDb para la realización de este ejercicio :) \n",
    "\n",
    "text=\"\"\"One of the all time greats. Or probably the alone greatest thing ever made in the history of cinematography. This movie \n",
    "is both prequel and sequel of the first godfather movie. I have never watched anything like this in my entire life. This \n",
    "movie has explained the life of underworld people in a great way. It also shows how vengeance eradicates happiness from your \n",
    "life. People don't even care about their family in greed of power. It is a masterpiece that can never be written off even after \n",
    "centuries. Even if you are not into these kind of movies, I will suggest to watch it for at least once in your life or you will \n",
    "be deprived of one of the greatest things to watch that have been ever made. \n",
    "While the first movie had a lot of freshness and intensity, this movie is explaining the rise of Vito and Michael with more \n",
    "detail and explanation, so that it is taking a much longer breathing to say it. The mixture of past and present may work for \n",
    "some, but it didn't work for me. I had the feeling the film was repeating itself constantly with past and present, even when \n",
    "the scenes with Vito Corleone weren't that good and a bit too cliché and strangely comical. I don't understand why this film is \n",
    "rated to high.\n",
    "I had avoided watching this sequel for twenty years,fearful I would prefer it over the original. How wrong I was! Unlike most of\n",
    "the reviewers here who can't seem to gush effusively enough over this film, I feel it is a good distance behind the original. \n",
    "Here we have the overrated Al Pacino acting as if in a trance, stone-faced,humorless and cold-blooded, the epitome of egomania \n",
    "Nothing matters to him except crooked power and greed. A truly unsavory person.a rotten husband and father,he leaves little to \n",
    "admire,unlike his predecessor. Robert DeNiro gives another one of his elliptical performances. John Cazale as Fredo and Michael \n",
    "Gazzo as Freddie save the movie from being downright boring. What was the plot? Who cares?\n",
    "This movie could be made a lot better if it was shorter. It drags too much on useless scenes, displaying scenarios and \n",
    "expressions in the faces of characters. Which leads to the third point.\n",
    "This movie, coming after the first, is a change of pace. The micheal segments of the film are more politcal, strategic, and \n",
    "focused on the sematics of the mafia than the previous film, and because of this it loses its charm from the last film. Aswell \n",
    "as this, because of how uncaring and heartless micheal is, its hard to attach to him as a character, the character isnt \n",
    "interesting enough in other ways to be likeable to me. the main aspect which saves the film is the vito corleone flashbacks, \n",
    "these segments are great insight into vitos past, with great acting from robert de niro, honestly if this was the main part of \n",
    "the film, this would easily be better than pt 1. The ending atleast is nicely thought provoking, and makes you wonder what \n",
    "happened to micheal, but the rest of the micheal segments arent amazing.\"\"\""
   ]
  },
  {
   "cell_type": "code",
   "execution_count": 5,
   "metadata": {},
   "outputs": [
    {
     "name": "stdout",
     "output_type": "stream",
     "text": [
      "<FreqDist with 292 samples and 593 outcomes>\n"
     ]
    }
   ],
   "source": [
    "# Segmentamos el texto en palabras y posteriormente calculamos su frecuencia.\n",
    "\n",
    "tokenized_word=word_tokenize(text)\n",
    "fdist = FreqDist(tokenized_word)\n",
    "print(fdist)"
   ]
  },
  {
   "cell_type": "code",
   "execution_count": 6,
   "metadata": {},
   "outputs": [
    {
     "data": {
      "text/plain": [
       "[('the', 34), ('.', 27), (',', 27), ('of', 22), ('and', 17)]"
      ]
     },
     "execution_count": 6,
     "metadata": {},
     "output_type": "execute_result"
    }
   ],
   "source": [
    "# A continuación vemos las 5 palabras más repetidas. \n",
    "\n",
    "fdist.most_common(5)"
   ]
  },
  {
   "cell_type": "markdown",
   "metadata": {},
   "source": [
    "   "
   ]
  },
  {
   "cell_type": "markdown",
   "metadata": {},
   "source": [
    "### <span style=\"color:black\">Exercici 3.</span>"
   ]
  },
  {
   "cell_type": "markdown",
   "metadata": {},
   "source": [
    "__Treu les stopwords i realitza stemming al teu conjunt de dades:__ <span style=\"color:blue\">__[X] Fet__</span>"
   ]
  },
  {
   "cell_type": "markdown",
   "metadata": {},
   "source": [
    "__- Primero vamos a eliminar los stopwords de nuestro texto.__ "
   ]
  },
  {
   "cell_type": "code",
   "execution_count": 7,
   "metadata": {},
   "outputs": [
    {
     "name": "stdout",
     "output_type": "stream",
     "text": [
      "{\"won't\", 'whom', 'himself', 'themselves', 'me', 'if', 'of', 'about', \"it's\", 't', 'needn', 'they', \"didn't\", 'do', 'herself', 'who', 'mustn', \"wasn't\", 'yourselves', 'below', 'haven', 'into', 'it', 'now', 'to', 'theirs', 'had', 'after', 'very', 'further', 'his', 'own', 'you', 'were', 'while', 'so', 'its', 'down', 'does', 'here', \"wouldn't\", 'our', 'being', 'with', 'any', \"that'll\", 'same', 'i', 'shan', \"couldn't\", 'up', \"shan't\", 'did', 'don', 'when', 'only', 'doesn', 'but', 'not', 'doing', 'this', 'myself', 'couldn', \"haven't\", 'those', 'wasn', 'again', 'just', 'm', 'an', 'on', 'some', \"you're\", \"you've\", 'are', 'is', 'will', 'out', 'll', 'has', 'isn', 'mightn', 'off', \"hasn't\", 'a', 'd', 'over', 've', 'all', 'once', \"mightn't\", \"you'll\", 'be', 'both', 'there', 'what', 'during', 'other', 'because', \"needn't\", 'that', 'through', 'ain', 'under', 'then', 'yours', 'too', 'am', 'he', 'until', 'wouldn', 'each', 'o', \"aren't\", \"isn't\", 'your', 'above', 'ma', 'for', 'or', 's', 'hadn', 'them', 'the', 'ourselves', 'between', 'in', 'which', 're', 'aren', \"she's\", \"you'd\", 'most', 'shouldn', 'before', 'how', 'nor', 'him', 'she', 'hasn', 'can', 'itself', 'didn', 'as', \"doesn't\", 'having', \"mustn't\", 'why', 'more', 'such', 'we', 'weren', 'and', 'from', 'by', 'hers', 'few', \"don't\", 'where', 'their', 'y', \"hadn't\", 'my', 'these', 'than', 'was', 'no', 'should', 'her', \"should've\", 'against', 'yourself', 'won', 'at', \"shouldn't\", 'ours', \"weren't\", 'have', 'been'}\n"
     ]
    }
   ],
   "source": [
    "# Cargamos la lista de stopwords (consideradas como ruido en el texto) de la lengua inglesa.\n",
    "\n",
    "stop_words=set(stopwords.words(\"english\"))\n",
    "print(stop_words)     "
   ]
  },
  {
   "cell_type": "code",
   "execution_count": 8,
   "metadata": {},
   "outputs": [],
   "source": [
    "word_tokens = word_tokenize(text) # separamos el texto en palabras\n",
    "\n",
    "filtered_sent=[] # creamos una lista que contendrá todas las palabras que no aparezcan en stop_words\n",
    "\n",
    "for w in word_tokens:\n",
    "    if w not in stop_words:\n",
    "        filtered_sent.append(w)"
   ]
  },
  {
   "cell_type": "code",
   "execution_count": 9,
   "metadata": {},
   "outputs": [
    {
     "name": "stdout",
     "output_type": "stream",
     "text": [
      "FILTERED SENTENCE: ['One', 'time', 'greats', '.', 'Or', 'probably', 'alone', 'greatest', 'thing', 'ever', 'made', 'history', 'cinematography', '.', 'This', 'movie', 'prequel', 'sequel', 'first', 'godfather', 'movie', '.', 'I', 'never', 'watched', 'anything', 'like', 'entire', 'life', '.', 'This', 'movie', 'explained', 'life', 'underworld', 'people', 'great', 'way', '.', 'It', 'also', 'shows', 'vengeance', 'eradicates', 'happiness', 'life', '.', 'People', \"n't\", 'even', 'care', 'family', 'greed', 'power', '.', 'It', 'masterpiece', 'never', 'written', 'even', 'centuries', '.', 'Even', 'kind', 'movies', ',', 'I', 'suggest', 'watch', 'least', 'life', 'deprived', 'one', 'greatest', 'things', 'watch', 'ever', 'made', '.', 'While', 'first', 'movie', 'lot', 'freshness', 'intensity', ',', 'movie', 'explaining', 'rise', 'Vito', 'Michael', 'detail', 'explanation', ',', 'taking', 'much', 'longer', 'breathing', 'say', '.', 'The', 'mixture', 'past', 'present', 'may', 'work', ',', \"n't\", 'work', '.', 'I', 'feeling', 'film', 'repeating', 'constantly', 'past', 'present', ',', 'even', 'scenes', 'Vito', 'Corleone', \"n't\", 'good', 'bit', 'cliché', 'strangely', 'comical', '.', 'I', \"n't\", 'understand', 'film', 'rated', 'high', '.', 'I', 'avoided', 'watching', 'sequel', 'twenty', 'years', ',', 'fearful', 'I', 'would', 'prefer', 'original', '.', 'How', 'wrong', 'I', '!', 'Unlike', 'reviewers', 'ca', \"n't\", 'seem', 'gush', 'effusively', 'enough', 'film', ',', 'I', 'feel', 'good', 'distance', 'behind', 'original', '.', 'Here', 'overrated', 'Al', 'Pacino', 'acting', 'trance', ',', 'stone-faced', ',', 'humorless', 'cold-blooded', ',', 'epitome', 'egomania', 'Nothing', 'matters', 'except', 'crooked', 'power', 'greed', '.', 'A', 'truly', 'unsavory', 'person.a', 'rotten', 'husband', 'father', ',', 'leaves', 'little', 'admire', ',', 'unlike', 'predecessor', '.', 'Robert', 'DeNiro', 'gives', 'another', 'one', 'elliptical', 'performances', '.', 'John', 'Cazale', 'Fredo', 'Michael', 'Gazzo', 'Freddie', 'save', 'movie', 'downright', 'boring', '.', 'What', 'plot', '?', 'Who', 'cares', '?', 'This', 'movie', 'could', 'made', 'lot', 'better', 'shorter', '.', 'It', 'drags', 'much', 'useless', 'scenes', ',', 'displaying', 'scenarios', 'expressions', 'faces', 'characters', '.', 'Which', 'leads', 'third', 'point', '.', 'This', 'movie', ',', 'coming', 'first', ',', 'change', 'pace', '.', 'The', 'micheal', 'segments', 'film', 'politcal', ',', 'strategic', ',', 'focused', 'sematics', 'mafia', 'previous', 'film', ',', 'loses', 'charm', 'last', 'film', '.', 'Aswell', ',', 'uncaring', 'heartless', 'micheal', ',', 'hard', 'attach', 'character', ',', 'character', 'isnt', 'interesting', 'enough', 'ways', 'likeable', '.', 'main', 'aspect', 'saves', 'film', 'vito', 'corleone', 'flashbacks', ',', 'segments', 'great', 'insight', 'vitos', 'past', ',', 'great', 'acting', 'robert', 'de', 'niro', ',', 'honestly', 'main', 'part', 'film', ',', 'would', 'easily', 'better', 'pt', '1', '.', 'The', 'ending', 'atleast', 'nicely', 'thought', 'provoking', ',', 'makes', 'wonder', 'happened', 'micheal', ',', 'rest', 'micheal', 'segments', 'arent', 'amazing', '.']\n"
     ]
    }
   ],
   "source": [
    "print(\"FILTERED SENTENCE:\", filtered_sent) # imprimimos las palabras una vez filtrado el texto"
   ]
  },
  {
   "cell_type": "markdown",
   "metadata": {},
   "source": [
    "__- A continuación procedemos al stemming.__ "
   ]
  },
  {
   "cell_type": "code",
   "execution_count": 10,
   "metadata": {},
   "outputs": [],
   "source": [
    "ps = PorterStemmer() \n",
    "\n",
    "stemmed_words=[]  # creamos una lista que contendrá las palabras derivadas\n",
    "\n",
    "for w in filtered_sent:\n",
    "    stemmed_words.append(ps.stem(w))"
   ]
  },
  {
   "cell_type": "code",
   "execution_count": 11,
   "metadata": {},
   "outputs": [
    {
     "name": "stdout",
     "output_type": "stream",
     "text": [
      "STEMMED SENTENCE: ['one', 'time', 'great', '.', 'or', 'probabl', 'alon', 'greatest', 'thing', 'ever', 'made', 'histori', 'cinematographi', '.', 'thi', 'movi', 'prequel', 'sequel', 'first', 'godfath', 'movi', '.', 'i', 'never', 'watch', 'anyth', 'like', 'entir', 'life', '.', 'thi', 'movi', 'explain', 'life', 'underworld', 'peopl', 'great', 'way', '.', 'it', 'also', 'show', 'vengeanc', 'erad', 'happi', 'life', '.', 'peopl', \"n't\", 'even', 'care', 'famili', 'greed', 'power', '.', 'it', 'masterpiec', 'never', 'written', 'even', 'centuri', '.', 'even', 'kind', 'movi', ',', 'i', 'suggest', 'watch', 'least', 'life', 'depriv', 'one', 'greatest', 'thing', 'watch', 'ever', 'made', '.', 'while', 'first', 'movi', 'lot', 'fresh', 'intens', ',', 'movi', 'explain', 'rise', 'vito', 'michael', 'detail', 'explan', ',', 'take', 'much', 'longer', 'breath', 'say', '.', 'the', 'mixtur', 'past', 'present', 'may', 'work', ',', \"n't\", 'work', '.', 'i', 'feel', 'film', 'repeat', 'constantli', 'past', 'present', ',', 'even', 'scene', 'vito', 'corleon', \"n't\", 'good', 'bit', 'cliché', 'strang', 'comic', '.', 'i', \"n't\", 'understand', 'film', 'rate', 'high', '.', 'i', 'avoid', 'watch', 'sequel', 'twenti', 'year', ',', 'fear', 'i', 'would', 'prefer', 'origin', '.', 'how', 'wrong', 'i', '!', 'unlik', 'review', 'ca', \"n't\", 'seem', 'gush', 'effus', 'enough', 'film', ',', 'i', 'feel', 'good', 'distanc', 'behind', 'origin', '.', 'here', 'overr', 'al', 'pacino', 'act', 'tranc', ',', 'stone-fac', ',', 'humorless', 'cold-blood', ',', 'epitom', 'egomania', 'noth', 'matter', 'except', 'crook', 'power', 'greed', '.', 'a', 'truli', 'unsavori', 'person.a', 'rotten', 'husband', 'father', ',', 'leav', 'littl', 'admir', ',', 'unlik', 'predecessor', '.', 'robert', 'deniro', 'give', 'anoth', 'one', 'ellipt', 'perform', '.', 'john', 'cazal', 'fredo', 'michael', 'gazzo', 'freddi', 'save', 'movi', 'downright', 'bore', '.', 'what', 'plot', '?', 'who', 'care', '?', 'thi', 'movi', 'could', 'made', 'lot', 'better', 'shorter', '.', 'it', 'drag', 'much', 'useless', 'scene', ',', 'display', 'scenario', 'express', 'face', 'charact', '.', 'which', 'lead', 'third', 'point', '.', 'thi', 'movi', ',', 'come', 'first', ',', 'chang', 'pace', '.', 'the', 'micheal', 'segment', 'film', 'politc', ',', 'strateg', ',', 'focus', 'semat', 'mafia', 'previou', 'film', ',', 'lose', 'charm', 'last', 'film', '.', 'aswel', ',', 'uncar', 'heartless', 'micheal', ',', 'hard', 'attach', 'charact', ',', 'charact', 'isnt', 'interest', 'enough', 'way', 'likeabl', '.', 'main', 'aspect', 'save', 'film', 'vito', 'corleon', 'flashback', ',', 'segment', 'great', 'insight', 'vito', 'past', ',', 'great', 'act', 'robert', 'de', 'niro', ',', 'honestli', 'main', 'part', 'film', ',', 'would', 'easili', 'better', 'pt', '1', '.', 'the', 'end', 'atleast', 'nice', 'thought', 'provok', ',', 'make', 'wonder', 'happen', 'micheal', ',', 'rest', 'micheal', 'segment', 'arent', 'amaz', '.']\n"
     ]
    }
   ],
   "source": [
    "print(\"STEMMED SENTENCE:\",stemmed_words) # imprimimos las palabras derivadas una vez filtrado el texto"
   ]
  },
  {
   "cell_type": "markdown",
   "metadata": {},
   "source": [
    "### <span style=\"color:black\">Exercici 4.</span>"
   ]
  },
  {
   "cell_type": "markdown",
   "metadata": {},
   "source": [
    "__Realitza sentiment analysis al teu conjunt de dades:__ <span style=\"color:blue\">__[X] Fet__</span>"
   ]
  },
  {
   "cell_type": "code",
   "execution_count": 12,
   "metadata": {},
   "outputs": [],
   "source": [
    "# Dado que no tenemos etiquetas de sentimientos en nuestos texto, vamos a separar nuestro texto en frases y pasarlo a dataframe.\n",
    "# Posteriormente, y gracias al algoritmo Vader, añadiremos la columna de Sentimientos. "
   ]
  },
  {
   "cell_type": "code",
   "execution_count": 13,
   "metadata": {},
   "outputs": [],
   "source": [
    "tokenized_text=sent_tokenize(text)"
   ]
  },
  {
   "cell_type": "code",
   "execution_count": 14,
   "metadata": {},
   "outputs": [],
   "source": [
    "data = pd.DataFrame(tokenized_text)"
   ]
  },
  {
   "cell_type": "code",
   "execution_count": 15,
   "metadata": {},
   "outputs": [
    {
     "data": {
      "text/html": [
       "<div>\n",
       "<style scoped>\n",
       "    .dataframe tbody tr th:only-of-type {\n",
       "        vertical-align: middle;\n",
       "    }\n",
       "\n",
       "    .dataframe tbody tr th {\n",
       "        vertical-align: top;\n",
       "    }\n",
       "\n",
       "    .dataframe thead th {\n",
       "        text-align: right;\n",
       "    }\n",
       "</style>\n",
       "<table border=\"1\" class=\"dataframe\">\n",
       "  <thead>\n",
       "    <tr style=\"text-align: right;\">\n",
       "      <th></th>\n",
       "      <th>0</th>\n",
       "    </tr>\n",
       "  </thead>\n",
       "  <tbody>\n",
       "    <tr>\n",
       "      <th>25</th>\n",
       "      <td>This movie, coming after the first, is a chang...</td>\n",
       "    </tr>\n",
       "    <tr>\n",
       "      <th>26</th>\n",
       "      <td>The micheal segments of the film are more poli...</td>\n",
       "    </tr>\n",
       "    <tr>\n",
       "      <th>27</th>\n",
       "      <td>Aswell \\nas this, because of how uncaring and ...</td>\n",
       "    </tr>\n",
       "    <tr>\n",
       "      <th>28</th>\n",
       "      <td>the main aspect which saves the film is the vi...</td>\n",
       "    </tr>\n",
       "    <tr>\n",
       "      <th>29</th>\n",
       "      <td>The ending atleast is nicely thought provoking...</td>\n",
       "    </tr>\n",
       "  </tbody>\n",
       "</table>\n",
       "</div>"
      ],
      "text/plain": [
       "                                                    0\n",
       "25  This movie, coming after the first, is a chang...\n",
       "26  The micheal segments of the film are more poli...\n",
       "27  Aswell \\nas this, because of how uncaring and ...\n",
       "28  the main aspect which saves the film is the vi...\n",
       "29  The ending atleast is nicely thought provoking..."
      ]
     },
     "execution_count": 15,
     "metadata": {},
     "output_type": "execute_result"
    }
   ],
   "source": [
    "data.tail()"
   ]
  },
  {
   "cell_type": "code",
   "execution_count": 16,
   "metadata": {},
   "outputs": [
    {
     "data": {
      "text/plain": [
       "(30, 1)"
      ]
     },
     "execution_count": 16,
     "metadata": {},
     "output_type": "execute_result"
    }
   ],
   "source": [
    "data.shape"
   ]
  },
  {
   "cell_type": "code",
   "execution_count": 17,
   "metadata": {},
   "outputs": [
    {
     "name": "stdout",
     "output_type": "stream",
     "text": [
      "<class 'pandas.core.frame.DataFrame'>\n",
      "RangeIndex: 30 entries, 0 to 29\n",
      "Data columns (total 1 columns):\n",
      " #   Column  Non-Null Count  Dtype \n",
      "---  ------  --------------  ----- \n",
      " 0   0       30 non-null     object\n",
      "dtypes: object(1)\n",
      "memory usage: 368.0+ bytes\n"
     ]
    }
   ],
   "source": [
    "data.info()"
   ]
  },
  {
   "cell_type": "code",
   "execution_count": 20,
   "metadata": {},
   "outputs": [],
   "source": [
    "# Para obtener las etiquetas de sentimientos sobre nuestro texto utilizaremos el algoritmo Vader: es un método no supervisado\n",
    "# y basado en reglas para el análisis de opiniones.\n",
    "\n",
    "analyzer = SentimentIntensityAnalyzer()\n",
    "\n",
    "def vader_sentiment_result(sent):\n",
    "    scores = analyzer.polarity_scores(sent)\n",
    "    \n",
    "    if scores[\"neg\"] > scores[\"pos\"]:\n",
    "        return 0\n",
    "\n",
    "    return 1"
   ]
  },
  {
   "cell_type": "code",
   "execution_count": 21,
   "metadata": {},
   "outputs": [],
   "source": [
    "data[\"Sentiment\"] = data[0].apply(lambda x: vader_sentiment_result(x))"
   ]
  },
  {
   "cell_type": "code",
   "execution_count": 22,
   "metadata": {},
   "outputs": [
    {
     "data": {
      "text/html": [
       "<div>\n",
       "<style scoped>\n",
       "    .dataframe tbody tr th:only-of-type {\n",
       "        vertical-align: middle;\n",
       "    }\n",
       "\n",
       "    .dataframe tbody tr th {\n",
       "        vertical-align: top;\n",
       "    }\n",
       "\n",
       "    .dataframe thead th {\n",
       "        text-align: right;\n",
       "    }\n",
       "</style>\n",
       "<table border=\"1\" class=\"dataframe\">\n",
       "  <thead>\n",
       "    <tr style=\"text-align: right;\">\n",
       "      <th></th>\n",
       "      <th>0</th>\n",
       "      <th>Sentiment</th>\n",
       "    </tr>\n",
       "  </thead>\n",
       "  <tbody>\n",
       "    <tr>\n",
       "      <th>0</th>\n",
       "      <td>One of the all time greats.</td>\n",
       "      <td>1</td>\n",
       "    </tr>\n",
       "    <tr>\n",
       "      <th>1</th>\n",
       "      <td>Or probably the alone greatest thing ever made...</td>\n",
       "      <td>1</td>\n",
       "    </tr>\n",
       "    <tr>\n",
       "      <th>2</th>\n",
       "      <td>This movie \\nis both prequel and sequel of the...</td>\n",
       "      <td>1</td>\n",
       "    </tr>\n",
       "    <tr>\n",
       "      <th>3</th>\n",
       "      <td>I have never watched anything like this in my ...</td>\n",
       "      <td>0</td>\n",
       "    </tr>\n",
       "    <tr>\n",
       "      <th>4</th>\n",
       "      <td>This \\nmovie has explained the life of underwo...</td>\n",
       "      <td>1</td>\n",
       "    </tr>\n",
       "  </tbody>\n",
       "</table>\n",
       "</div>"
      ],
      "text/plain": [
       "                                                   0  Sentiment\n",
       "0                        One of the all time greats.          1\n",
       "1  Or probably the alone greatest thing ever made...          1\n",
       "2  This movie \\nis both prequel and sequel of the...          1\n",
       "3  I have never watched anything like this in my ...          0\n",
       "4  This \\nmovie has explained the life of underwo...          1"
      ]
     },
     "execution_count": 22,
     "metadata": {},
     "output_type": "execute_result"
    }
   ],
   "source": [
    "data.head()"
   ]
  },
  {
   "cell_type": "code",
   "execution_count": 23,
   "metadata": {},
   "outputs": [
    {
     "data": {
      "text/plain": [
       "1    20\n",
       "0    10\n",
       "Name: Sentiment, dtype: int64"
      ]
     },
     "execution_count": 23,
     "metadata": {},
     "output_type": "execute_result"
    }
   ],
   "source": [
    "# Obviamente predominan los valores 1 (sentimiento positivo), sobre los 0 (sentimiento negativo), dado que la mayoría de las\n",
    "# críticas recopiladas eran positivas como comenté al inicio del ejercicio 2.\n",
    "\n",
    "data['Sentiment'].value_counts()"
   ]
  },
  {
   "cell_type": "code",
   "execution_count": 24,
   "metadata": {},
   "outputs": [],
   "source": [
    "# Tokenizer para eliminar elementos no deseados de los datos, como símbolos y números.\n",
    "\n",
    "token = RegexpTokenizer(r'[a-zA-Z0-9]+')\n",
    "\n",
    "\n",
    "# Seguidamente creamos nuestra matriz de términos con CountVectorizer de Scikit-learn.\n",
    "\n",
    "cv = CountVectorizer(lowercase=True, stop_words='english', ngram_range = (1,1), tokenizer = token.tokenize)\n",
    "text_counts= cv.fit_transform(data[0].values.astype(str))"
   ]
  },
  {
   "cell_type": "code",
   "execution_count": 25,
   "metadata": {},
   "outputs": [],
   "source": [
    "X_train, X_test, y_train, y_test = train_test_split(text_counts, data['Sentiment'], test_size=0.3, random_state=10)"
   ]
  },
  {
   "cell_type": "code",
   "execution_count": 28,
   "metadata": {},
   "outputs": [
    {
     "name": "stdout",
     "output_type": "stream",
     "text": [
      "MultinomialNB Accuracy: 0.78\n"
     ]
    }
   ],
   "source": [
    "# El accuracy resultante es de casi un 80% que, para no tener un labelling de sentimiento inicial, podemos afirmar que nuestro\n",
    "# modelo es bastante bueno. \n",
    "\n",
    "clf = MultinomialNB().fit(X_train, y_train)\n",
    "predicted= clf.predict(X_test)\n",
    "\n",
    "print(\"MultinomialNB Accuracy:\",metrics.accuracy_score(y_test, predicted).round(2))"
   ]
  },
  {
   "cell_type": "markdown",
   "metadata": {},
   "source": [
    "   "
   ]
  },
  {
   "cell_type": "markdown",
   "metadata": {},
   "source": [
    "    "
   ]
  }
 ],
 "metadata": {
  "kernelspec": {
   "display_name": "Python 3",
   "language": "python",
   "name": "python3"
  },
  "language_info": {
   "codemirror_mode": {
    "name": "ipython",
    "version": 3
   },
   "file_extension": ".py",
   "mimetype": "text/x-python",
   "name": "python",
   "nbconvert_exporter": "python",
   "pygments_lexer": "ipython3",
   "version": "3.7.4"
  }
 },
 "nbformat": 4,
 "nbformat_minor": 4
}
